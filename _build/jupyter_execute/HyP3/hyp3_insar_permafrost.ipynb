{
 "cells": [
  {
   "cell_type": "markdown",
   "id": "800b543c-8724-49ee-aa01-12caf891cf11",
   "metadata": {},
   "source": [
    "# HyP3 On-Demand GAMMA-InSAR, SBAS\n",
    "\n",
    "## Example: programmatic access of ASF HyP3 On-Demand Processing.\n",
    "\n",
    "- Downloads interferograms from HyP3\n",
    "\n",
    "**Author:** Jie Chen, University of Alaska Fairbanks\n",
    "\n",
    ">**Example Only. Not Needed for Workshop.**\n",
    ">- This orders the interferograms used with the accompanying notebook, `MintPy_sbas_permafrost_Alaska.ipynb` (<u>Quantifying permafrost-related ground deformation with InSAR Time Series using HyP3 products and MintPy</u>).\n",
    ">- The dataset has already been processed and saved in an S3 bucket. The MintPy notebook uses the pre-staged dataset, so it is not necessary to run this notebook.\n",
    "\n",
    "**Adapt this code to order SBAS stacks over your area of interest.**"
   ]
  },
  {
   "cell_type": "markdown",
   "id": "d1852ab2-a959-4956-9114-6436ad8acb48",
   "metadata": {},
   "source": [
    "### Set parameters"
   ]
  },
  {
   "cell_type": "code",
   "execution_count": 1,
   "id": "39c4d642-0df0-48e3-9fbd-5be3d3565ff0",
   "metadata": {},
   "outputs": [],
   "source": [
    "from pathlib import Path\n",
    "from dateutil.parser import parse as parse_date\n",
    "\n",
    "import pandas as pd\n",
    "from typing import List, Union\n",
    "from osgeo import gdal\n",
    "\n",
    "import asf_search as asf\n",
    "import hyp3_sdk as sdk"
   ]
  },
  {
   "cell_type": "markdown",
   "id": "1d6bf25a-13f8-4b26-984b-4fb31b2fab63",
   "metadata": {},
   "source": [
    "## 1. Select InSAR pairs with ASF Search"
   ]
  },
  {
   "cell_type": "code",
   "execution_count": 23,
   "id": "23243435-dae0-422f-8b81-1350ae4971e7",
   "metadata": {},
   "outputs": [],
   "source": [
    "# Define a project name\n",
    "project_name = 'AK_P15D_2021-2022'\n",
    "work_dir = Path.cwd()\n",
    "data_dir = work_dir / 'insar_data'\n",
    "\n",
    "# Define the dataset parameters\n",
    "start_date = '2021-06-01'\n",
    "end_date = '2022-10-01'\n",
    "max_temporal_baseline = 36  # days\n",
    "interannual_baseline_max = 380\n",
    "interannual_baseline_min = 350\n",
    "look_nums = '20x4'     # Range x Azimuth looks\n",
    "phase_filter_para = 0.8   # Exponent parameters for adaptive filter before phase unwrapping\n",
    "overlap = [516000.000, 7535000.000, 526000.000, 7525000.000]   # AOI with common overlap\n",
    "\n",
    "# Set the polygons\n",
    "wkt = 'POLYGON((-164.5341 67.8529,-164.2322 67.8529,-164.2322 67.9293,-164.5341 67.9293,-164.5341 67.8529))'   # Get from ASF AOI\n",
    "\n",
    "stack_start = parse_date(start_date + ' 00:00:00Z')\n",
    "stack_end = parse_date(end_date + ' 00:00:00Z')\n",
    "year_start = stack_start.year\n",
    "year_end = stack_end.year\n",
    "season_period = [start_date[5:], end_date[5:]]\n",
    "\n",
    "data_dir.mkdir(parents=True, exist_ok=True)"
   ]
  },
  {
   "cell_type": "code",
   "execution_count": 24,
   "id": "308f385e-bd51-4162-86ad-1d874503d3ad",
   "metadata": {},
   "outputs": [],
   "source": [
    "# All options to geo_search() can be specified using kwargs, which also allows them to be handled using a dictionary.\n",
    "opts = {\n",
    "    'platform': asf.SENTINEL1,\n",
    "    'start': start_date,\n",
    "    'end': end_date,\n",
    "    'processingLevel': asf.SLC,\n",
    "    'beamMode': asf.IW,\n",
    "    'flightDirection': asf.DESCENDING,\n",
    "    'relativeOrbit': 15\n",
    "}\n",
    "search_results = asf.geo_search(\n",
    "        intersectsWith=wkt,\n",
    "        **opts\n",
    "    )"
   ]
  },
  {
   "cell_type": "code",
   "execution_count": 25,
   "id": "21defa00-b872-4743-bc98-b2dc46f430eb",
   "metadata": {},
   "outputs": [
    {
     "name": "stdout",
     "output_type": "stream",
     "text": [
      "POINT (-165.05558675728977 67.33204179507277)\n",
      "41 SLC images found\n"
     ]
    }
   ],
   "source": [
    "centroid = search_results[1].centroid().wkt\n",
    "print(centroid)\n",
    "centroid_results = asf.geo_search(intersectsWith=centroid, **opts)\n",
    "search_results = centroid_results\n",
    "print(f'{len(search_results)} SLC images found')\n",
    "# print(search_results[0])"
   ]
  },
  {
   "cell_type": "code",
   "execution_count": 26,
   "id": "115ff896-e174-48cc-889c-471c8bb5306e",
   "metadata": {},
   "outputs": [],
   "source": [
    "baseline_results = asf.baseline_search.stack_from_product(search_results[-1])\n",
    "\n",
    "columns = list(baseline_results[0].properties.keys()) + ['geometry', ]\n",
    "data = [list(scene.properties.values()) + [scene.geometry, ] for scene in baseline_results]\n",
    "\n",
    "stack = pd.DataFrame(data, columns=columns)\n",
    "stack['startTime'] = stack.startTime.apply(parse_date)\n",
    "\n",
    "stack = stack.loc[(stack_start <= stack.startTime) & (stack.startTime <= stack_end)]"
   ]
  },
  {
   "cell_type": "code",
   "execution_count": 27,
   "id": "460c0a61-0aaf-40e9-b42f-9c348983b9ef",
   "metadata": {},
   "outputs": [
    {
     "name": "stdout",
     "output_type": "stream",
     "text": [
      "Total SAR sences are: 21\n",
      "2021-06-07T17:33:39.000000000 <class 'numpy.datetime64'>\n",
      "2021-06-19T17:33:40.000000000 <class 'numpy.datetime64'>\n",
      "2021-07-01T17:33:41.000000000 <class 'numpy.datetime64'>\n",
      "2021-07-13T17:33:41.000000000 <class 'numpy.datetime64'>\n",
      "2021-07-25T17:33:42.000000000 <class 'numpy.datetime64'>\n",
      "2021-08-06T17:33:43.000000000 <class 'numpy.datetime64'>\n",
      "2021-08-18T17:33:43.000000000 <class 'numpy.datetime64'>\n",
      "2021-08-30T17:33:44.000000000 <class 'numpy.datetime64'>\n",
      "2021-09-11T17:33:45.000000000 <class 'numpy.datetime64'>\n",
      "2021-09-23T17:33:45.000000000 <class 'numpy.datetime64'>\n",
      "2022-06-02T17:33:45.000000000 <class 'numpy.datetime64'>\n",
      "2022-06-14T17:33:46.000000000 <class 'numpy.datetime64'>\n",
      "2022-06-26T17:33:47.000000000 <class 'numpy.datetime64'>\n",
      "2022-07-08T17:33:47.000000000 <class 'numpy.datetime64'>\n",
      "2022-07-20T17:33:48.000000000 <class 'numpy.datetime64'>\n",
      "2022-08-01T17:33:49.000000000 <class 'numpy.datetime64'>\n",
      "2022-08-13T17:33:50.000000000 <class 'numpy.datetime64'>\n",
      "2022-08-25T17:33:50.000000000 <class 'numpy.datetime64'>\n",
      "2022-09-06T17:33:51.000000000 <class 'numpy.datetime64'>\n",
      "2022-09-18T17:33:51.000000000 <class 'numpy.datetime64'>\n",
      "2022-09-30T17:33:51.000000000 <class 'numpy.datetime64'>\n"
     ]
    }
   ],
   "source": [
    "# Construct interferometric pairs\n",
    "stack_season = pd.DataFrame()\n",
    "for year_index in range(int(year_start), int(year_end) + 1):\n",
    "    season_start = parse_date(f'{str(year_index)}-{season_period[0]} 00:00:00Z')\n",
    "    season_end = parse_date(f'{str(year_index)}-{season_period[1]} 00:00:00Z')\n",
    "    stack_season = pd.concat([stack_season, stack.loc[(season_start <= stack.startTime) & (stack.startTime <= season_end)]])\n",
    "print('Total SAR sences are:', len(stack_season.startTime))\n",
    "for i in stack_season.startTime.values:   # or stack_season['startTime'].values\n",
    "    print(i, type(i))"
   ]
  },
  {
   "cell_type": "code",
   "execution_count": 28,
   "id": "e7f8f750-67e7-46c8-b314-f0d7dedc396e",
   "metadata": {},
   "outputs": [
    {
     "name": "stdout",
     "output_type": "stream",
     "text": [
      "The seasonal interferometric pairs are (reference-secondary): \n",
      "20220918 20220930\n",
      "20220906 20220918\n",
      "20220906 20220930\n",
      "20220825 20220906\n",
      "20220825 20220918\n",
      "20220825 20220930\n",
      "20220813 20220825\n",
      "20220813 20220906\n",
      "20220813 20220918\n",
      "20220801 20220813\n",
      "20220801 20220825\n",
      "20220801 20220906\n",
      "20220720 20220801\n",
      "20220720 20220813\n",
      "20220720 20220825\n",
      "20220708 20220720\n",
      "20220708 20220801\n",
      "20220708 20220813\n",
      "20220626 20220708\n",
      "20220626 20220720\n",
      "20220626 20220801\n",
      "20220614 20220626\n",
      "20220614 20220708\n",
      "20220614 20220720\n",
      "20220602 20220614\n",
      "20220602 20220626\n",
      "20220602 20220708\n",
      "20210911 20210923\n",
      "20210830 20210911\n",
      "20210830 20210923\n",
      "20210818 20210830\n",
      "20210818 20210911\n",
      "20210818 20210923\n",
      "20210806 20210818\n",
      "20210806 20210830\n",
      "20210806 20210911\n",
      "20210725 20210806\n",
      "20210725 20210818\n",
      "20210725 20210830\n",
      "20210713 20210725\n",
      "20210713 20210806\n",
      "20210713 20210818\n",
      "20210701 20210713\n",
      "20210701 20210725\n",
      "20210701 20210806\n",
      "20210619 20210701\n",
      "20210619 20210713\n",
      "20210619 20210725\n",
      "20210607 20210619\n",
      "20210607 20210701\n",
      "20210607 20210713\n",
      "The inter-annual interferometric pairs are (reference-secondary): \n",
      "20210923 20220918\n",
      "20210923 20220930\n",
      "20210911 20220906\n",
      "20210911 20220918\n",
      "20210830 20220825\n",
      "20210830 20220906\n",
      "20210818 20220813\n",
      "20210818 20220825\n",
      "20210806 20220801\n",
      "20210806 20220813\n",
      "20210725 20220720\n",
      "20210725 20220801\n",
      "20210713 20220708\n",
      "20210713 20220720\n",
      "20210701 20220626\n",
      "20210701 20220708\n",
      "20210619 20220614\n",
      "20210619 20220626\n",
      "20210607 20220602\n",
      "20210607 20220614\n",
      "The total number of interferometric pairs are:  71\n"
     ]
    }
   ],
   "source": [
    "# Construct the seasonal and inter-annual pairs. You can modify the networking strategies.\n",
    "sbas_pairs = set()\n",
    "\n",
    "# For adjacent interferogram pair search\n",
    "sbas_pairs = set()\n",
    "print('The seasonal interferometric pairs are (reference-secondary): ')\n",
    "for reference, rt in stack_season.loc[::-1, ['sceneName', 'temporalBaseline']].itertuples(index=False):\n",
    "    secondaries = stack_season.loc[\n",
    "        (stack_season.sceneName != reference)\n",
    "        & (stack_season.temporalBaseline - rt <= max_temporal_baseline)\n",
    "        & (stack_season.temporalBaseline - rt > 0)\n",
    "    ]\n",
    "    for secondary in secondaries.sceneName:\n",
    "        sbas_pairs.add((reference, secondary))\n",
    "        print(reference[17:25], secondary[17:25])\n",
    "\n",
    "# For inter-annual pairs\n",
    "print('The inter-annual interferometric pairs are (reference-secondary): ')\n",
    "for reference, rt in stack_season.loc[::-1, ['sceneName', 'temporalBaseline']].itertuples(index=False):\n",
    "    # print(reference, rt)\n",
    "    secondaries = stack_season.loc[\n",
    "        (stack_season.sceneName != reference)\n",
    "        & (stack_season.temporalBaseline - rt <= interannual_baseline_max)\n",
    "        & (stack_season.temporalBaseline - rt > interannual_baseline_min)\n",
    "    ]\n",
    "    for secondary in secondaries.sceneName:\n",
    "        sbas_pairs.add((reference, secondary))\n",
    "        print(reference[17:25], secondary[17:25])\n",
    "print('The total number of interferometric pairs are: ', len(sbas_pairs))"
   ]
  },
  {
   "cell_type": "markdown",
   "id": "f2ed4ed3-3e95-439b-b563-98e6cfdb69b1",
   "metadata": {},
   "source": [
    "## 2. Request On Demand InSAR products from ASF HyP3\n",
    "\n",
    "Use your [NASA Earthdata login](https://urs.earthdata.nasa.gov/) to connect to [ASF HyP3](https://hyp3-docs.asf.alaska.edu/)."
   ]
  },
  {
   "cell_type": "code",
   "execution_count": 29,
   "id": "6fe80014-fd63-4bc7-9482-de4e4e50adb2",
   "metadata": {},
   "outputs": [
    {
     "name": "stdin",
     "output_type": "stream",
     "text": [
      "NASA Earthdata Login username:  jiechencyz\n",
      "NASA Earthdata Login password:  ········\n"
     ]
    }
   ],
   "source": [
    "hyp3 = sdk.HyP3(prompt=True)"
   ]
  },
  {
   "cell_type": "code",
   "execution_count": 30,
   "id": "794f2a59-0cbc-4d1a-b947-a35442bdf192",
   "metadata": {},
   "outputs": [
    {
     "name": "stdout",
     "output_type": "stream",
     "text": [
      "5.0.0\n"
     ]
    }
   ],
   "source": [
    "print(sdk.version('hyp3_sdk'))"
   ]
  },
  {
   "cell_type": "code",
   "execution_count": 33,
   "id": "f59d269b-8aa0-415b-b086-ab2ef2b2ced7",
   "metadata": {},
   "outputs": [
    {
     "name": "stdout",
     "output_type": "stream",
     "text": [
      "0 HyP3 Jobs: 0 succeeded, 0 failed, 0 running, 0 pending.\n"
     ]
    }
   ],
   "source": [
    "jobs = sdk.Batch()\n",
    "print(jobs)"
   ]
  },
  {
   "cell_type": "code",
   "execution_count": 34,
   "id": "142cbf18-5e9a-434a-b776-26506929dd5e",
   "metadata": {},
   "outputs": [],
   "source": [
    "# Set up the interferogram parameters here\n",
    "# This step will submit the HyP3 InSAR job! Be careful!\n",
    "# The code will not check if the project is exist or not. \n",
    "for reference, secondary in sbas_pairs:\n",
    "    jobs += hyp3.submit_insar_job(reference, secondary, name=project_name,\n",
    "                                  include_wrapped_phase= True, apply_water_mask=True,\n",
    "                                  include_dem=True, include_look_vectors=True,\n",
    "                                 looks=look_nums, phase_filter_parameter=phase_filter_para)"
   ]
  },
  {
   "cell_type": "code",
   "execution_count": 35,
   "id": "2b5cf95d-73fc-4463-9616-494423a21f3a",
   "metadata": {},
   "outputs": [
    {
     "data": {
      "application/vnd.jupyter.widget-view+json": {
       "model_id": "770f8b2951784516856be7cbcda134ea",
       "version_major": 2,
       "version_minor": 0
      },
      "text/plain": [
       "  0%|          | 0/71 [timeout in 10800 s]"
      ]
     },
     "metadata": {},
     "output_type": "display_data"
    }
   ],
   "source": [
    "jobs = hyp3.watch(jobs)"
   ]
  },
  {
   "cell_type": "code",
   "execution_count": 36,
   "id": "ec7b58f5-260b-441d-9d30-fb2402492845",
   "metadata": {},
   "outputs": [
    {
     "name": "stdout",
     "output_type": "stream",
     "text": [
      "71 HyP3 Jobs: 71 succeeded, 0 failed, 0 running, 0 pending.\n"
     ]
    }
   ],
   "source": [
    "jobs = hyp3.find_jobs(name=project_name)\n",
    "print(jobs)"
   ]
  },
  {
   "cell_type": "code",
   "execution_count": 27,
   "id": "f55e40b9-aad2-4e1e-994f-3f5559552d63",
   "metadata": {},
   "outputs": [
    {
     "name": "stdout",
     "output_type": "stream",
     "text": [
      "27 HyP3 Jobs: 27 succeeded, 0 failed, 0 running, 0 pending.\n"
     ]
    }
   ],
   "source": [
    "# Check if all the jobs are succeeded.\n",
    "# jobs_failed = jobs.filter_jobs(succeeded=False, running=False, failed=True, include_expired=False)\n",
    "# print(jobs)"
   ]
  },
  {
   "cell_type": "markdown",
   "id": "1865c138-6101-454a-b407-4e8a607c205f",
   "metadata": {},
   "source": [
    "## 3. Subset all GeoTIFFs to AOI with common overlap"
   ]
  },
  {
   "cell_type": "code",
   "execution_count": 37,
   "id": "e3ee8d94-735f-4e90-83ab-1aa25bed7f10",
   "metadata": {},
   "outputs": [],
   "source": [
    "# Clip HyP3 geotiff products to user-defined AOI\n",
    "def clip_hyp3_products_to_AOI(data_path: Union[str, Path], overlap: List[float]) -> None:\n",
    "    \"\"\"Clip all GeoTIFF files to AOI with common overlap\n",
    "    \n",
    "    Args:\n",
    "        data_dir:\n",
    "            directory containing the GeoTIFF files to clip\n",
    "        overlap:\n",
    "            a list of the upper-left x, upper-left y, lower-right-x, and lower-tight y\n",
    "            corner coordinates of AOI\n",
    "    Returns: None\n",
    "    \"\"\"\n",
    "\n",
    "    files_for_mintpy = ['_water_mask.tif', '_corr.tif', '_unw_phase.tif', '_wrapped_phase.tif', '_dem.tif', '_lv_theta.tif', '_lv_phi.tif', '_amp.tif']\n",
    "    files_del = [\"amp.tif\",\"corr.tif\",\"dem.tif\",\"phi.tif\", \"theta.tif\", \"phase.tif\", 'mask.tif']\n",
    "    \n",
    "    for extension in files_for_mintpy:\n",
    "        for file in data_path.rglob(f'*{extension}'):\n",
    "            dst_file = file.parent / f'{file.stem}_clip{file.suffix}'\n",
    "            gdal.Translate(destName=str(dst_file), srcDS=str(file), projWin=overlap)\n",
    "            file.unlink()"
   ]
  },
  {
   "cell_type": "code",
   "execution_count": 38,
   "id": "7881716f-3db8-468a-989e-c866509e396c",
   "metadata": {},
   "outputs": [
    {
     "data": {
      "application/vnd.jupyter.widget-view+json": {
       "model_id": "5f2f4ae1e969463aa993f7143dbfe181",
       "version_major": 2,
       "version_minor": 0
      },
      "text/plain": [
       "S1AA_20210725T173342_20210830T173344_VVP036_INT80_G_weF_7D67.zip:   0%|          | 0/234975382 [00:00<?, ?it/s…"
      ]
     },
     "metadata": {},
     "output_type": "display_data"
    },
    {
     "data": {
      "application/vnd.jupyter.widget-view+json": {
       "model_id": "603bc4b8daf042a6aa7b2b8df4d92a77",
       "version_major": 2,
       "version_minor": 0
      },
      "text/plain": [
       "S1AA_20210830T173344_20210923T173345_VVP024_INT80_G_weF_CD67.zip:   0%|          | 0/235789495 [00:00<?, ?it/s…"
      ]
     },
     "metadata": {},
     "output_type": "display_data"
    },
    {
     "data": {
      "application/vnd.jupyter.widget-view+json": {
       "model_id": "b6a877d0728c402a9c6c0c62ca664bb1",
       "version_major": 2,
       "version_minor": 0
      },
      "text/plain": [
       "S1AA_20210713T173341_20210818T173343_VVP036_INT80_G_weF_7F8E.zip:   0%|          | 0/236087284 [00:00<?, ?it/s…"
      ]
     },
     "metadata": {},
     "output_type": "display_data"
    },
    {
     "data": {
      "application/vnd.jupyter.widget-view+json": {
       "model_id": "5d8f9081122d476e939adaa403526d2a",
       "version_major": 2,
       "version_minor": 0
      },
      "text/plain": [
       "S1AA_20220918T173351_20220930T173351_VVP012_INT80_G_weF_81AC.zip:   0%|          | 0/234524242 [00:00<?, ?it/s…"
      ]
     },
     "metadata": {},
     "output_type": "display_data"
    },
    {
     "data": {
      "application/vnd.jupyter.widget-view+json": {
       "model_id": "bfab9a3a4dc44b9e89e1471aa7010abc",
       "version_major": 2,
       "version_minor": 0
      },
      "text/plain": [
       "S1AA_20220708T173347_20220813T173350_VVP036_INT80_G_weF_083D.zip:   0%|          | 0/236161599 [00:00<?, ?it/s…"
      ]
     },
     "metadata": {},
     "output_type": "display_data"
    },
    {
     "data": {
      "application/vnd.jupyter.widget-view+json": {
       "model_id": "da470f43733f4242b82c0917c3462ea9",
       "version_major": 2,
       "version_minor": 0
      },
      "text/plain": [
       "S1AA_20210911T173345_20210923T173345_VVP012_INT80_G_weF_9126.zip:   0%|          | 0/235181881 [00:00<?, ?it/s…"
      ]
     },
     "metadata": {},
     "output_type": "display_data"
    },
    {
     "data": {
      "application/vnd.jupyter.widget-view+json": {
       "model_id": "d5e7d69398084837aa5749e98a0e79ef",
       "version_major": 2,
       "version_minor": 0
      },
      "text/plain": [
       "S1AA_20220813T173350_20220825T173350_VVP012_INT80_G_weF_D66F.zip:   0%|          | 0/234633946 [00:00<?, ?it/s…"
      ]
     },
     "metadata": {},
     "output_type": "display_data"
    },
    {
     "data": {
      "application/vnd.jupyter.widget-view+json": {
       "model_id": "327b5e9ad5d64fc9981f8221c5d5f0aa",
       "version_major": 2,
       "version_minor": 0
      },
      "text/plain": [
       "S1AA_20210818T173343_20210911T173345_VVP024_INT80_G_weF_75BE.zip:   0%|          | 0/235015876 [00:00<?, ?it/s…"
      ]
     },
     "metadata": {},
     "output_type": "display_data"
    },
    {
     "data": {
      "application/vnd.jupyter.widget-view+json": {
       "model_id": "de9b8c7c06e84cb6b6da498eb294cc4e",
       "version_major": 2,
       "version_minor": 0
      },
      "text/plain": [
       "S1AA_20210725T173342_20210806T173343_VVP012_INT80_G_weF_E6C9.zip:   0%|          | 0/234482767 [00:00<?, ?it/s…"
      ]
     },
     "metadata": {},
     "output_type": "display_data"
    },
    {
     "data": {
      "application/vnd.jupyter.widget-view+json": {
       "model_id": "4327377bd04a4814a9a4788e3317da09",
       "version_major": 2,
       "version_minor": 0
      },
      "text/plain": [
       "S1AA_20220825T173350_20220918T173351_VVP024_INT80_G_weF_E525.zip:   0%|          | 0/234421954 [00:00<?, ?it/s…"
      ]
     },
     "metadata": {},
     "output_type": "display_data"
    },
    {
     "data": {
      "application/vnd.jupyter.widget-view+json": {
       "model_id": "bd75606d32ac431cb5e68145dfc376fd",
       "version_major": 2,
       "version_minor": 0
      },
      "text/plain": [
       "S1AA_20210713T173341_20210806T173343_VVP024_INT80_G_weF_EF62.zip:   0%|          | 0/235872103 [00:00<?, ?it/s…"
      ]
     },
     "metadata": {},
     "output_type": "display_data"
    },
    {
     "data": {
      "application/vnd.jupyter.widget-view+json": {
       "model_id": "fbdf82b1e6ab44aa91eb666e79d75091",
       "version_major": 2,
       "version_minor": 0
      },
      "text/plain": [
       "S1AA_20210923T173345_20220930T173351_VVP372_INT80_G_weF_7BBE.zip:   0%|          | 0/236130277 [00:00<?, ?it/s…"
      ]
     },
     "metadata": {},
     "output_type": "display_data"
    },
    {
     "data": {
      "application/vnd.jupyter.widget-view+json": {
       "model_id": "5b64ae5048894bd59a5bf9b3c302aaa3",
       "version_major": 2,
       "version_minor": 0
      },
      "text/plain": [
       "S1AA_20210607T173339_20210701T173341_VVP024_INT80_G_weF_54C6.zip:   0%|          | 0/235589736 [00:00<?, ?it/s…"
      ]
     },
     "metadata": {},
     "output_type": "display_data"
    },
    {
     "data": {
      "application/vnd.jupyter.widget-view+json": {
       "model_id": "f79fca0923b84cff8d657eac4cf362bf",
       "version_major": 2,
       "version_minor": 0
      },
      "text/plain": [
       "S1AA_20220720T173348_20220825T173350_VVP036_INT80_G_weF_5212.zip:   0%|          | 0/236117408 [00:00<?, ?it/s…"
      ]
     },
     "metadata": {},
     "output_type": "display_data"
    },
    {
     "data": {
      "application/vnd.jupyter.widget-view+json": {
       "model_id": "c0446b6fae7a46038152e2e16b8d73c5",
       "version_major": 2,
       "version_minor": 0
      },
      "text/plain": [
       "S1AA_20210911T173345_20220918T173351_VVP372_INT80_G_weF_43F9.zip:   0%|          | 0/235813349 [00:00<?, ?it/s…"
      ]
     },
     "metadata": {},
     "output_type": "display_data"
    },
    {
     "data": {
      "application/vnd.jupyter.widget-view+json": {
       "model_id": "0257cc94362d4e1f8f0e62edb3408487",
       "version_major": 2,
       "version_minor": 0
      },
      "text/plain": [
       "S1AA_20220708T173347_20220720T173348_VVP012_INT80_G_weF_9555.zip:   0%|          | 0/235614365 [00:00<?, ?it/s…"
      ]
     },
     "metadata": {},
     "output_type": "display_data"
    },
    {
     "data": {
      "application/vnd.jupyter.widget-view+json": {
       "model_id": "cfed53c10f2f4015853fef6c103486a3",
       "version_major": 2,
       "version_minor": 0
      },
      "text/plain": [
       "S1AA_20220906T173351_20220930T173351_VVP024_INT80_G_weF_18D8.zip:   0%|          | 0/235418879 [00:00<?, ?it/s…"
      ]
     },
     "metadata": {},
     "output_type": "display_data"
    },
    {
     "data": {
      "application/vnd.jupyter.widget-view+json": {
       "model_id": "cc3e96bb1a5f4078bb4a060eacf83be9",
       "version_major": 2,
       "version_minor": 0
      },
      "text/plain": [
       "S1AA_20210830T173344_20210911T173345_VVP012_INT80_G_weF_9CA6.zip:   0%|          | 0/234828371 [00:00<?, ?it/s…"
      ]
     },
     "metadata": {},
     "output_type": "display_data"
    },
    {
     "data": {
      "application/vnd.jupyter.widget-view+json": {
       "model_id": "7b051903ff094cb8b8ba4185fea128dd",
       "version_major": 2,
       "version_minor": 0
      },
      "text/plain": [
       "S1AA_20210818T173343_20210830T173344_VVP012_INT80_G_weF_8F3A.zip:   0%|          | 0/234306613 [00:00<?, ?it/s…"
      ]
     },
     "metadata": {},
     "output_type": "display_data"
    },
    {
     "data": {
      "application/vnd.jupyter.widget-view+json": {
       "model_id": "b34b16e255d74d27931274f7937fe33d",
       "version_major": 2,
       "version_minor": 0
      },
      "text/plain": [
       "S1AA_20220614T173346_20220720T173348_VVP036_INT80_G_weF_0022.zip:   0%|          | 0/235977081 [00:00<?, ?it/s…"
      ]
     },
     "metadata": {},
     "output_type": "display_data"
    },
    {
     "data": {
      "application/vnd.jupyter.widget-view+json": {
       "model_id": "7e2c747d64e54041adb5be3dfefa064e",
       "version_major": 2,
       "version_minor": 0
      },
      "text/plain": [
       "S1AA_20220626T173347_20220720T173348_VVP024_INT80_G_weF_6B28.zip:   0%|          | 0/235270822 [00:00<?, ?it/s…"
      ]
     },
     "metadata": {},
     "output_type": "display_data"
    },
    {
     "data": {
      "application/vnd.jupyter.widget-view+json": {
       "model_id": "0d3c4fadde3949ff84ca3e94c65461cf",
       "version_major": 2,
       "version_minor": 0
      },
      "text/plain": [
       "S1AA_20220825T173350_20220906T173351_VVP012_INT80_G_weF_6492.zip:   0%|          | 0/234000635 [00:00<?, ?it/s…"
      ]
     },
     "metadata": {},
     "output_type": "display_data"
    },
    {
     "data": {
      "application/vnd.jupyter.widget-view+json": {
       "model_id": "f45fd879ff3746a6b5bee05ae9149fa4",
       "version_major": 2,
       "version_minor": 0
      },
      "text/plain": [
       "S1AA_20210701T173341_20220626T173347_VVP360_INT80_G_weF_879F.zip:   0%|          | 0/235473723 [00:00<?, ?it/s…"
      ]
     },
     "metadata": {},
     "output_type": "display_data"
    },
    {
     "data": {
      "application/vnd.jupyter.widget-view+json": {
       "model_id": "e77332556e164986948f6627c68cb01c",
       "version_major": 2,
       "version_minor": 0
      },
      "text/plain": [
       "S1AA_20210725T173342_20220720T173348_VVP360_INT80_G_weF_BA1B.zip:   0%|          | 0/235676206 [00:00<?, ?it/s…"
      ]
     },
     "metadata": {},
     "output_type": "display_data"
    },
    {
     "data": {
      "application/vnd.jupyter.widget-view+json": {
       "model_id": "8e0c77581f53496488e3cbde18a0c82a",
       "version_major": 2,
       "version_minor": 0
      },
      "text/plain": [
       "S1AA_20210701T173341_20210725T173342_VVP024_INT80_G_weF_FCA8.zip:   0%|          | 0/235462696 [00:00<?, ?it/s…"
      ]
     },
     "metadata": {},
     "output_type": "display_data"
    },
    {
     "data": {
      "application/vnd.jupyter.widget-view+json": {
       "model_id": "bd47914720b5471ba1b12d6c277dbf60",
       "version_major": 2,
       "version_minor": 0
      },
      "text/plain": [
       "S1AA_20210818T173343_20220813T173350_VVP360_INT80_G_weF_A6A7.zip:   0%|          | 0/235750878 [00:00<?, ?it/s…"
      ]
     },
     "metadata": {},
     "output_type": "display_data"
    },
    {
     "data": {
      "application/vnd.jupyter.widget-view+json": {
       "model_id": "392e324fd5704be3bacc8a00692fc4fa",
       "version_major": 2,
       "version_minor": 0
      },
      "text/plain": [
       "S1AA_20210830T173344_20220906T173351_VVP372_INT80_G_weF_43D7.zip:   0%|          | 0/235961010 [00:00<?, ?it/s…"
      ]
     },
     "metadata": {},
     "output_type": "display_data"
    },
    {
     "data": {
      "application/vnd.jupyter.widget-view+json": {
       "model_id": "627f1378c1a84b4890ff773d0de0c9f6",
       "version_major": 2,
       "version_minor": 0
      },
      "text/plain": [
       "S1AA_20210701T173341_20220708T173347_VVP372_INT80_G_weF_05AD.zip:   0%|          | 0/235465737 [00:00<?, ?it/s…"
      ]
     },
     "metadata": {},
     "output_type": "display_data"
    },
    {
     "data": {
      "application/vnd.jupyter.widget-view+json": {
       "model_id": "16456de4374040aba3721af606f54c6a",
       "version_major": 2,
       "version_minor": 0
      },
      "text/plain": [
       "S1AA_20220801T173349_20220906T173351_VVP036_INT80_G_weF_5188.zip:   0%|          | 0/235857056 [00:00<?, ?it/s…"
      ]
     },
     "metadata": {},
     "output_type": "display_data"
    },
    {
     "data": {
      "application/vnd.jupyter.widget-view+json": {
       "model_id": "f73e74d2e0034b8a98aeaa3545802ef9",
       "version_major": 2,
       "version_minor": 0
      },
      "text/plain": [
       "S1AA_20220602T173345_20220626T173347_VVP024_INT80_G_weF_9D8F.zip:   0%|          | 0/235011140 [00:00<?, ?it/s…"
      ]
     },
     "metadata": {},
     "output_type": "display_data"
    },
    {
     "data": {
      "application/vnd.jupyter.widget-view+json": {
       "model_id": "128c61b3c34941cfb2bc9d8df9607c6a",
       "version_major": 2,
       "version_minor": 0
      },
      "text/plain": [
       "S1AA_20210619T173340_20210701T173341_VVP012_INT80_G_weF_2A20.zip:   0%|          | 0/235807956 [00:00<?, ?it/s…"
      ]
     },
     "metadata": {},
     "output_type": "display_data"
    },
    {
     "data": {
      "application/vnd.jupyter.widget-view+json": {
       "model_id": "fbb991c7edac47ef827c896f254f9af3",
       "version_major": 2,
       "version_minor": 0
      },
      "text/plain": [
       "S1AA_20220602T173345_20220614T173346_VVP012_INT80_G_weF_1748.zip:   0%|          | 0/234684477 [00:00<?, ?it/s…"
      ]
     },
     "metadata": {},
     "output_type": "display_data"
    },
    {
     "data": {
      "application/vnd.jupyter.widget-view+json": {
       "model_id": "d4ec58c35310489bbd450422e7fb2ed0",
       "version_major": 2,
       "version_minor": 0
      },
      "text/plain": [
       "S1AA_20220602T173345_20220708T173347_VVP036_INT80_G_weF_18B2.zip:   0%|          | 0/235648216 [00:00<?, ?it/s…"
      ]
     },
     "metadata": {},
     "output_type": "display_data"
    },
    {
     "data": {
      "application/vnd.jupyter.widget-view+json": {
       "model_id": "921105b84bbc49cbb44ca78afa71f29d",
       "version_major": 2,
       "version_minor": 0
      },
      "text/plain": [
       "S1AA_20210713T173341_20220720T173348_VVP372_INT80_G_weF_EDBD.zip:   0%|          | 0/236489327 [00:00<?, ?it/s…"
      ]
     },
     "metadata": {},
     "output_type": "display_data"
    },
    {
     "data": {
      "application/vnd.jupyter.widget-view+json": {
       "model_id": "7514d7ca79894733a6f74dcc5983a1ad",
       "version_major": 2,
       "version_minor": 0
      },
      "text/plain": [
       "S1AA_20210607T173339_20220614T173346_VVP372_INT80_G_weF_5364.zip:   0%|          | 0/236516042 [00:00<?, ?it/s…"
      ]
     },
     "metadata": {},
     "output_type": "display_data"
    },
    {
     "data": {
      "application/vnd.jupyter.widget-view+json": {
       "model_id": "310b4e03d7814a30ac98d4035a5027e6",
       "version_major": 2,
       "version_minor": 0
      },
      "text/plain": [
       "S1AA_20220813T173350_20220918T173351_VVP036_INT80_G_weF_93FC.zip:   0%|          | 0/235204199 [00:00<?, ?it/s…"
      ]
     },
     "metadata": {},
     "output_type": "display_data"
    },
    {
     "data": {
      "application/vnd.jupyter.widget-view+json": {
       "model_id": "e9b2a381da8b4e87b0df42a5db2c5377",
       "version_major": 2,
       "version_minor": 0
      },
      "text/plain": [
       "S1AA_20210911T173345_20220906T173351_VVP360_INT80_G_weF_95A7.zip:   0%|          | 0/235601458 [00:00<?, ?it/s…"
      ]
     },
     "metadata": {},
     "output_type": "display_data"
    },
    {
     "data": {
      "application/vnd.jupyter.widget-view+json": {
       "model_id": "723d989d611944b9aa894fecf80dbe4e",
       "version_major": 2,
       "version_minor": 0
      },
      "text/plain": [
       "S1AA_20210806T173343_20210911T173345_VVP036_INT80_G_weF_F702.zip:   0%|          | 0/235010530 [00:00<?, ?it/s…"
      ]
     },
     "metadata": {},
     "output_type": "display_data"
    },
    {
     "data": {
      "application/vnd.jupyter.widget-view+json": {
       "model_id": "3785ccea4cdf4ea8bd1b9e393cded154",
       "version_major": 2,
       "version_minor": 0
      },
      "text/plain": [
       "S1AA_20210701T173341_20210713T173341_VVP012_INT80_G_weF_1F22.zip:   0%|          | 0/235012537 [00:00<?, ?it/s…"
      ]
     },
     "metadata": {},
     "output_type": "display_data"
    },
    {
     "data": {
      "application/vnd.jupyter.widget-view+json": {
       "model_id": "d77045d5082647a69420d6f809b9a917",
       "version_major": 2,
       "version_minor": 0
      },
      "text/plain": [
       "S1AA_20210806T173343_20220801T173349_VVP360_INT80_G_weF_7C96.zip:   0%|          | 0/235861146 [00:00<?, ?it/s…"
      ]
     },
     "metadata": {},
     "output_type": "display_data"
    },
    {
     "data": {
      "application/vnd.jupyter.widget-view+json": {
       "model_id": "4f50690a21ef47efb78cccafdfe15571",
       "version_major": 2,
       "version_minor": 0
      },
      "text/plain": [
       "S1AA_20210923T173345_20220918T173351_VVP360_INT80_G_weF_B9EC.zip:   0%|          | 0/236238534 [00:00<?, ?it/s…"
      ]
     },
     "metadata": {},
     "output_type": "display_data"
    },
    {
     "data": {
      "application/vnd.jupyter.widget-view+json": {
       "model_id": "58405b82ee5d4cc0b1fd73eb7c335ae8",
       "version_major": 2,
       "version_minor": 0
      },
      "text/plain": [
       "S1AA_20210818T173343_20220825T173350_VVP372_INT80_G_weF_1BF8.zip:   0%|          | 0/236229716 [00:00<?, ?it/s…"
      ]
     },
     "metadata": {},
     "output_type": "display_data"
    },
    {
     "data": {
      "application/vnd.jupyter.widget-view+json": {
       "model_id": "edf71cf8270549e89f81982cf36a71ff",
       "version_major": 2,
       "version_minor": 0
      },
      "text/plain": [
       "S1AA_20210806T173343_20210818T173343_VVP012_INT80_G_weF_EB96.zip:   0%|          | 0/234790796 [00:00<?, ?it/s…"
      ]
     },
     "metadata": {},
     "output_type": "display_data"
    },
    {
     "data": {
      "application/vnd.jupyter.widget-view+json": {
       "model_id": "da00198dba19418fab789b12322ba6c8",
       "version_major": 2,
       "version_minor": 0
      },
      "text/plain": [
       "S1AA_20210607T173339_20210619T173340_VVP012_INT80_G_weF_BC41.zip:   0%|          | 0/235416571 [00:00<?, ?it/s…"
      ]
     },
     "metadata": {},
     "output_type": "display_data"
    },
    {
     "data": {
      "application/vnd.jupyter.widget-view+json": {
       "model_id": "9f6e781ec9164ceebd6f363c7086897c",
       "version_major": 2,
       "version_minor": 0
      },
      "text/plain": [
       "S1AA_20210607T173339_20210713T173341_VVP036_INT80_G_weF_A5B8.zip:   0%|          | 0/236216487 [00:00<?, ?it/s…"
      ]
     },
     "metadata": {},
     "output_type": "display_data"
    },
    {
     "data": {
      "application/vnd.jupyter.widget-view+json": {
       "model_id": "fcc92e3c026340ef92094bb7ef9d644a",
       "version_major": 2,
       "version_minor": 0
      },
      "text/plain": [
       "S1AA_20210701T173341_20210806T173343_VVP036_INT80_G_weF_8365.zip:   0%|          | 0/235331584 [00:00<?, ?it/s…"
      ]
     },
     "metadata": {},
     "output_type": "display_data"
    },
    {
     "data": {
      "application/vnd.jupyter.widget-view+json": {
       "model_id": "599f7bc8ee874ca694dc0ea8eb515e5c",
       "version_major": 2,
       "version_minor": 0
      },
      "text/plain": [
       "S1AA_20220801T173349_20220813T173350_VVP012_INT80_G_weF_B5F3.zip:   0%|          | 0/235275682 [00:00<?, ?it/s…"
      ]
     },
     "metadata": {},
     "output_type": "display_data"
    },
    {
     "data": {
      "application/vnd.jupyter.widget-view+json": {
       "model_id": "08ea646d72a740669c95a6c6dac6da47",
       "version_major": 2,
       "version_minor": 0
      },
      "text/plain": [
       "S1AA_20220614T173346_20220708T173347_VVP024_INT80_G_weF_57ED.zip:   0%|          | 0/235532660 [00:00<?, ?it/s…"
      ]
     },
     "metadata": {},
     "output_type": "display_data"
    },
    {
     "data": {
      "application/vnd.jupyter.widget-view+json": {
       "model_id": "1892725f0d724726b0573e072bc78668",
       "version_major": 2,
       "version_minor": 0
      },
      "text/plain": [
       "S1AA_20220614T173346_20220626T173347_VVP012_INT80_G_weF_C94B.zip:   0%|          | 0/234596043 [00:00<?, ?it/s…"
      ]
     },
     "metadata": {},
     "output_type": "display_data"
    },
    {
     "data": {
      "application/vnd.jupyter.widget-view+json": {
       "model_id": "7f42c11b5fb74b01b52b656551fd4fa4",
       "version_major": 2,
       "version_minor": 0
      },
      "text/plain": [
       "S1AA_20220813T173350_20220906T173351_VVP024_INT80_G_weF_8CB0.zip:   0%|          | 0/234914395 [00:00<?, ?it/s…"
      ]
     },
     "metadata": {},
     "output_type": "display_data"
    },
    {
     "data": {
      "application/vnd.jupyter.widget-view+json": {
       "model_id": "4453e5333a2b4242bb0cf2361683e19a",
       "version_major": 2,
       "version_minor": 0
      },
      "text/plain": [
       "S1AA_20220720T173348_20220801T173349_VVP012_INT80_G_weF_CC44.zip:   0%|          | 0/235545515 [00:00<?, ?it/s…"
      ]
     },
     "metadata": {},
     "output_type": "display_data"
    },
    {
     "data": {
      "application/vnd.jupyter.widget-view+json": {
       "model_id": "1adffde5d8ac447a8a1d6ef4da1d8b5f",
       "version_major": 2,
       "version_minor": 0
      },
      "text/plain": [
       "S1AA_20210818T173343_20210923T173345_VVP036_INT80_G_weF_8F4A.zip:   0%|          | 0/235968892 [00:00<?, ?it/s…"
      ]
     },
     "metadata": {},
     "output_type": "display_data"
    },
    {
     "data": {
      "application/vnd.jupyter.widget-view+json": {
       "model_id": "c6fd9e9d9c704dd79c3f639437f9c7d6",
       "version_major": 2,
       "version_minor": 0
      },
      "text/plain": [
       "S1AA_20220906T173351_20220918T173351_VVP012_INT80_G_weF_FD31.zip:   0%|          | 0/234728977 [00:00<?, ?it/s…"
      ]
     },
     "metadata": {},
     "output_type": "display_data"
    },
    {
     "data": {
      "application/vnd.jupyter.widget-view+json": {
       "model_id": "d3bfa70730fe4e379a750e33f32d1d22",
       "version_major": 2,
       "version_minor": 0
      },
      "text/plain": [
       "S1AA_20220626T173347_20220708T173347_VVP012_INT80_G_weF_8F47.zip:   0%|          | 0/235052208 [00:00<?, ?it/s…"
      ]
     },
     "metadata": {},
     "output_type": "display_data"
    },
    {
     "data": {
      "application/vnd.jupyter.widget-view+json": {
       "model_id": "9526c5a7e95c485fac70e55dde7e6dbc",
       "version_major": 2,
       "version_minor": 0
      },
      "text/plain": [
       "S1AA_20220825T173350_20220930T173351_VVP036_INT80_G_weF_997A.zip:   0%|          | 0/235352966 [00:00<?, ?it/s…"
      ]
     },
     "metadata": {},
     "output_type": "display_data"
    },
    {
     "data": {
      "application/vnd.jupyter.widget-view+json": {
       "model_id": "d71ec03bbf4c4609a18fe74393fdc59e",
       "version_major": 2,
       "version_minor": 0
      },
      "text/plain": [
       "S1AA_20210619T173340_20210725T173342_VVP036_INT80_G_weF_6758.zip:   0%|          | 0/236459639 [00:00<?, ?it/s…"
      ]
     },
     "metadata": {},
     "output_type": "display_data"
    },
    {
     "data": {
      "application/vnd.jupyter.widget-view+json": {
       "model_id": "63630f58ea6c41eda9aa1e01b9f7845c",
       "version_major": 2,
       "version_minor": 0
      },
      "text/plain": [
       "S1AA_20210619T173340_20220626T173347_VVP372_INT80_G_weF_7BE1.zip:   0%|          | 0/236283374 [00:00<?, ?it/s…"
      ]
     },
     "metadata": {},
     "output_type": "display_data"
    },
    {
     "data": {
      "application/vnd.jupyter.widget-view+json": {
       "model_id": "aa0417827a3141829541717975993c37",
       "version_major": 2,
       "version_minor": 0
      },
      "text/plain": [
       "S1AA_20220708T173347_20220801T173349_VVP024_INT80_G_weF_A61C.zip:   0%|          | 0/235931010 [00:00<?, ?it/s…"
      ]
     },
     "metadata": {},
     "output_type": "display_data"
    },
    {
     "data": {
      "application/vnd.jupyter.widget-view+json": {
       "model_id": "3044a73cf7344a61a9a6543ff0ea75d2",
       "version_major": 2,
       "version_minor": 0
      },
      "text/plain": [
       "S1AA_20210806T173343_20210830T173344_VVP024_INT80_G_weF_5D18.zip:   0%|          | 0/234677366 [00:00<?, ?it/s…"
      ]
     },
     "metadata": {},
     "output_type": "display_data"
    },
    {
     "data": {
      "application/vnd.jupyter.widget-view+json": {
       "model_id": "f5b58274d340402e873c515df5baed12",
       "version_major": 2,
       "version_minor": 0
      },
      "text/plain": [
       "S1AA_20210830T173344_20220825T173350_VVP360_INT80_G_weF_B6C9.zip:   0%|          | 0/235853106 [00:00<?, ?it/s…"
      ]
     },
     "metadata": {},
     "output_type": "display_data"
    },
    {
     "data": {
      "application/vnd.jupyter.widget-view+json": {
       "model_id": "a86e3e95905a42eb9760a93a1c63246d",
       "version_major": 2,
       "version_minor": 0
      },
      "text/plain": [
       "S1AA_20220801T173349_20220825T173350_VVP024_INT80_G_weF_D846.zip:   0%|          | 0/235618130 [00:00<?, ?it/s…"
      ]
     },
     "metadata": {},
     "output_type": "display_data"
    },
    {
     "data": {
      "application/vnd.jupyter.widget-view+json": {
       "model_id": "9b4aebac113047deb9938deaebf1e5aa",
       "version_major": 2,
       "version_minor": 0
      },
      "text/plain": [
       "S1AA_20210619T173340_20220614T173346_VVP360_INT80_G_weF_30FA.zip:   0%|          | 0/236624160 [00:00<?, ?it/s…"
      ]
     },
     "metadata": {},
     "output_type": "display_data"
    },
    {
     "data": {
      "application/vnd.jupyter.widget-view+json": {
       "model_id": "41bd735ee78044dea6a09ce20cdfe0c2",
       "version_major": 2,
       "version_minor": 0
      },
      "text/plain": [
       "S1AA_20210725T173342_20220801T173349_VVP372_INT80_G_weF_F511.zip:   0%|          | 0/235811653 [00:00<?, ?it/s…"
      ]
     },
     "metadata": {},
     "output_type": "display_data"
    },
    {
     "data": {
      "application/vnd.jupyter.widget-view+json": {
       "model_id": "69bce610b952403daebb19914af63b83",
       "version_major": 2,
       "version_minor": 0
      },
      "text/plain": [
       "S1AA_20220626T173347_20220801T173349_VVP036_INT80_G_weF_61F5.zip:   0%|          | 0/235538657 [00:00<?, ?it/s…"
      ]
     },
     "metadata": {},
     "output_type": "display_data"
    },
    {
     "data": {
      "application/vnd.jupyter.widget-view+json": {
       "model_id": "7d576646483148f9a242e5592bad361f",
       "version_major": 2,
       "version_minor": 0
      },
      "text/plain": [
       "S1AA_20210713T173341_20220708T173347_VVP360_INT80_G_weF_05E8.zip:   0%|          | 0/236756491 [00:00<?, ?it/s…"
      ]
     },
     "metadata": {},
     "output_type": "display_data"
    },
    {
     "data": {
      "application/vnd.jupyter.widget-view+json": {
       "model_id": "704f64bf09e5409b9ee10f54bb078653",
       "version_major": 2,
       "version_minor": 0
      },
      "text/plain": [
       "S1AA_20210725T173342_20210818T173343_VVP024_INT80_G_weF_C8E2.zip:   0%|          | 0/235018032 [00:00<?, ?it/s…"
      ]
     },
     "metadata": {},
     "output_type": "display_data"
    },
    {
     "data": {
      "application/vnd.jupyter.widget-view+json": {
       "model_id": "7cfb85c6d1ff4cc4ac9a76daf51ab21d",
       "version_major": 2,
       "version_minor": 0
      },
      "text/plain": [
       "S1AA_20210713T173341_20210725T173342_VVP012_INT80_G_weF_157A.zip:   0%|          | 0/235933182 [00:00<?, ?it/s…"
      ]
     },
     "metadata": {},
     "output_type": "display_data"
    },
    {
     "data": {
      "application/vnd.jupyter.widget-view+json": {
       "model_id": "9a46ff4fbea646858c724ef312ec9c76",
       "version_major": 2,
       "version_minor": 0
      },
      "text/plain": [
       "S1AA_20210607T173339_20220602T173345_VVP360_INT80_G_weF_79FF.zip:   0%|          | 0/236493911 [00:00<?, ?it/s…"
      ]
     },
     "metadata": {},
     "output_type": "display_data"
    },
    {
     "data": {
      "application/vnd.jupyter.widget-view+json": {
       "model_id": "b4a2687afe2f4852ad3795f2d9cbf48f",
       "version_major": 2,
       "version_minor": 0
      },
      "text/plain": [
       "S1AA_20210619T173340_20210713T173341_VVP024_INT80_G_weF_AC94.zip:   0%|          | 0/236092555 [00:00<?, ?it/s…"
      ]
     },
     "metadata": {},
     "output_type": "display_data"
    },
    {
     "data": {
      "application/vnd.jupyter.widget-view+json": {
       "model_id": "fcb25535431c44be99da6a4a9c6b7ab1",
       "version_major": 2,
       "version_minor": 0
      },
      "text/plain": [
       "S1AA_20210806T173343_20220813T173350_VVP372_INT80_G_weF_7540.zip:   0%|          | 0/235540997 [00:00<?, ?it/s…"
      ]
     },
     "metadata": {},
     "output_type": "display_data"
    },
    {
     "data": {
      "application/vnd.jupyter.widget-view+json": {
       "model_id": "5a37fb447239488699761eedb01f0d44",
       "version_major": 2,
       "version_minor": 0
      },
      "text/plain": [
       "S1AA_20220720T173348_20220813T173350_VVP024_INT80_G_weF_2702.zip:   0%|          | 0/235881679 [00:00<?, ?it/s…"
      ]
     },
     "metadata": {},
     "output_type": "display_data"
    }
   ],
   "source": [
    "# Download and clip hyp3 products one-by-one.\n",
    "for index in range(0, len(jobs)):\n",
    "    job = jobs[index]\n",
    "    insar_product = job.download_files(data_dir)\n",
    "    product_dir = sdk.util.extract_zipped_product(insar_product[0])\n",
    "    clip_hyp3_products_to_AOI(product_dir, overlap)"
   ]
  },
  {
   "cell_type": "markdown",
   "id": "c76ab96d-fbbd-436c-879d-07accafd1b05",
   "metadata": {},
   "source": [
    "### Delete unused files"
   ]
  },
  {
   "cell_type": "code",
   "execution_count": 39,
   "id": "00e8115c-808b-4dbc-9828-be8580b89958",
   "metadata": {},
   "outputs": [],
   "source": [
    "for pattern in [\"xml\",\"png\",\"kmz\",\"md.txt\"]:\n",
    "    unneeded_files = data_dir.glob(f\"*/*.{pattern}\")\n",
    "    for file in unneeded_files:\n",
    "        file.unlink()\n",
    "for pattern in [\"amp.tif\",\"corr.tif\",\"dem.tif\",\"phi.tif\", \"theta.tif\", \"phase.tif\", 'mask.tif']:\n",
    "    unneeded_files = data_dir.glob(f\"*/*{pattern}\")\n",
    "    for file in unneeded_files:\n",
    "        file.unlink()"
   ]
  },
  {
   "cell_type": "code",
   "execution_count": null,
   "id": "4b1d36fe-d5a4-4321-8df5-76604ae18aa0",
   "metadata": {},
   "outputs": [],
   "source": []
  }
 ],
 "metadata": {
  "kernelspec": {
   "display_name": "NISAR_EA_Workshop_2024_1",
   "language": "python",
   "name": "conda-env-.local-NISAR_EA_Workshop_2024_1-py"
  },
  "language_info": {
   "codemirror_mode": {
    "name": "ipython",
    "version": 3
   },
   "file_extension": ".py",
   "mimetype": "text/x-python",
   "name": "python",
   "nbconvert_exporter": "python",
   "pygments_lexer": "ipython3",
   "version": "3.9.0"
  }
 },
 "nbformat": 4,
 "nbformat_minor": 5
}