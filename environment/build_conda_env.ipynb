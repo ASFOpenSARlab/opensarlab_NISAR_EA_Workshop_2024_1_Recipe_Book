{
 "cells": [
  {
   "cell_type": "markdown",
   "id": "bc87f32b-195e-483b-b56f-925919866113",
   "metadata": {},
   "source": [
    "# Create Conda Environment Notebook\n",
    "\n",
    "*For use with the opensarlab_NISAR_EA_Workshop_2024_1_Recipe_Book*"
   ]
  },
  {
   "cell_type": "code",
   "execution_count": null,
   "id": "e56dc99e-8bbf-4cb8-8cd6-47cbb80709b8",
   "metadata": {},
   "outputs": [],
   "source": [
    "from pathlib import Path\n",
    "import yaml"
   ]
  },
  {
   "cell_type": "markdown",
   "id": "ab3f8cca-5fc2-421d-bffa-2402c7f22461",
   "metadata": {},
   "source": [
    "## Build the `NISAR_EA_Workshop_2024_1` Conda Environment\n",
    "\n",
    "*Note: We use a conda environment config with all packages pinned for stability: `environment_locked.yaml'*\n",
    "\n",
    "*There is an unpinned `environment.yaml` provided, but it may not remain stable with dependency updates, which can occur any time*"
   ]
  },
  {
   "cell_type": "code",
   "execution_count": null,
   "id": "adf25b39-2c53-4ec5-ab95-04f93ca7ffce",
   "metadata": {},
   "outputs": [],
   "source": [
    "yaml_name = \"environment_locked.yaml\"\n",
    "conda_yaml_pth = list(Path.cwd().glob(yaml_name))[0]\n",
    "with open(conda_yaml_pth, 'r') as f:\n",
    "    try:\n",
    "        env = yaml.safe_load(f)\n",
    "        env_name = env['name']\n",
    "    except yaml.YAMLError:\n",
    "        raise\n",
    "print(f'environment_locked.yaml path: {conda_yaml_pth}')\n",
    "print(f'environment name: {env_name}')"
   ]
  },
  {
   "cell_type": "code",
   "execution_count": null,
   "id": "c262ddfa-ff80-43df-b011-2f63d91fc774",
   "metadata": {},
   "outputs": [],
   "source": [
    "# If running outside of OpenSARLab, update conda_prefix \n",
    "# to the path of your system's conda envs directory\n",
    "conda_prefix = Path.home()/f\".local/envs/{env_name}\"\n",
    "\n",
    "# Create the environment\n",
    "!mamba env create -f {conda_yaml_pth} --prefix {conda_prefix} -q --force\n",
    "\n",
    "# Without running this, every environment would appear in the GUI with the same name, 'Python 3'\n",
    "!mamba run -n {env_name} kernda --display-name {env_name} -o {conda_prefix}/share/jupyter/kernels/python3/kernel.json\n",
    "\n",
    "# Run the script to install ARIA-Tools\n",
    "!source \"opensarlab_NISAR_EA_Workshop_2024_1_Recipe_Book_env.sh\""
   ]
  },
  {
   "cell_type": "code",
   "execution_count": null,
   "id": "2fddf94d-15ad-4487-9a19-57273fcd47ce",
   "metadata": {},
   "outputs": [],
   "source": []
  }
 ],
 "metadata": {
  "kernelspec": {
   "display_name": "base",
   "language": "python",
   "name": "python3"
  },
  "language_info": {
   "codemirror_mode": {
    "name": "ipython",
    "version": 3
   },
   "file_extension": ".py",
   "mimetype": "text/x-python",
   "name": "python",
   "nbconvert_exporter": "python",
   "pygments_lexer": "ipython3",
   "version": "3.9.18"
  }
 },
 "nbformat": 4,
 "nbformat_minor": 5
}
