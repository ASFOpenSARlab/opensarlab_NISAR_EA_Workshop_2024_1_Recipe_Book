{
 "cells": [
  {
   "attachments": {},
   "cell_type": "markdown",
   "id": "9bf69936-b542-45d5-b741-ca11ff8dae36",
   "metadata": {},
   "source": [
    "# NISAR Sample Data Notebook\n",
    "\n",
    "> \"The project team has created a set of sample products using JAXA ALOS-1 PALSAR data as a surrogate for NISAR. The sample covers the full suite of planned products, from Level 0 raw data (in NISAR format) to Level 1 and Level 2. These data cover a smaller area than a NISAR frame, but the formate and metadata content is fully compatible with the data NISAR will produce after entering the science phase, allowing users to prepare their analysis tools well in advance of operations.\"\n",
    "> \n",
    "> https://nisar.jpl.nasa.gov/data/overview/\n",
    "\n",
    "- [NISAR Sample Data Page](https://nisar.jpl.nasa.gov/data/sample-data/)\n",
    "- [NISAR L1 and L2 ATBD](https://nisar.asf.alaska.edu/NISAR-SAMPLE-DATA/DOCS/NISAR_D-95677_NASA_L1_L2_ATBD_20231112_R3.4_w-sigs.pdf)\n"
   ]
  },
  {
   "cell_type": "code",
   "execution_count": null,
   "id": "97738557-115a-4292-add9-626e3b082261",
   "metadata": {},
   "outputs": [],
   "source": [
    "import h5py\n",
    "import requests\n",
    "import shutil\n",
    "\n",
    "import matplotlib\n",
    "import matplotlib.pyplot as plt\n",
    "import numpy as np\n",
    "import rasterio\n",
    "from rasterio.crs import CRS\n",
    "from rasterio.transform import from_origin\n",
    "import shapely.wkt as wkt\n",
    "import xarray as xr"
   ]
  },
  {
   "cell_type": "markdown",
   "id": "84e70fb8-cfdd-4810-95d8-785e9da8dc8f",
   "metadata": {},
   "source": [
    "## L2 GSLC \n",
    "\n",
    "Level 2 Focused SAR image in geocoded coordinates\n",
    "\n",
    "[GSLC Product Specification](https://nisar.asf.alaska.edu/NISAR-SAMPLE-DATA/DOCS/NISAR_D-102269_L2_GSLC_Product_Spec_R3.4_2311009_clean_w-sigs.pdf)\n",
    "\n",
    "**Download Sample GSLC**"
   ]
  },
  {
   "cell_type": "code",
   "execution_count": null,
   "id": "c08d07fb-cb24-468b-9d32-d2bd7c75a9c6",
   "metadata": {},
   "outputs": [],
   "source": [
    "gslc_h5 = \"NISAR_L2_PR_GSLC_001_005_A_219_2005_DHDH_A_20081127T060959_20081127T061015_P01101_F_N_J_001.h5\"\n",
    "url = f\"https://nisar.asf.alaska.edu/NISAR-SAMPLE-DATA/GSLC/ALOS1_Rosamond_20081012/{gslc_h5}\"\n",
    "\n",
    "r = requests.get(url, verify=True, stream=True)\n",
    "r.raw.decode_content = True\n",
    "with open(gslc_h5, 'wb') as f:\n",
    "        shutil.copyfileobj(r.raw, f)"
   ]
  },
  {
   "cell_type": "code",
   "execution_count": null,
   "id": "4b66eb49-7ea9-411e-8a78-c3c417e0ec4a",
   "metadata": {},
   "outputs": [],
   "source": [
    "with h5py.File(gslc_h5, 'r') as h5:    \n",
    "    gslc_path = f'science/LSAR/GSLC/grids/frequencyA'\n",
    "    gslc = h5[f'{gslc_path}/HH'][:]    \n",
    "    \n",
    "    id_path = f'science/LSAR/identification'\n",
    "    bounding_polygon = h5[f'{id_path}/boundingPolygon'][()].astype(str) \n",
    "    poly = wkt.loads(bounding_polygon)\n",
    "    bbox = [poly.bounds[0], poly.bounds[2], poly.bounds[1], poly.bounds[3]]\n",
    "    \n",
    "    xcoor = h5[f'{gslc_path}/xCoordinates'][:]\n",
    "    ycoor = h5[f'{gslc_path}/yCoordinates'][:]    \n",
    "    dx = h5[f'{gslc_path}/xCoordinateSpacing'][()].astype(int)\n",
    "    dy = h5[f'{gslc_path}/yCoordinateSpacing'][()].astype(int)\n",
    "    transform = from_origin(xcoor[0],ycoor[0],dx,np.abs(dy))\n",
    "    epsg = h5[f'{gslc_path}/projection'][()].astype(int)"
   ]
  },
  {
   "cell_type": "code",
   "execution_count": null,
   "id": "5e2164b5-7417-47ea-bee7-78b7fd8c9877",
   "metadata": {},
   "outputs": [],
   "source": [
    "gslc_xr = xr.DataArray(gslc, \n",
    "coords={'y': ycoor,'x': xcoor},\n",
    "dims=[\"y\", \"x\"])\n",
    "\n",
    "gslc_xr"
   ]
  },
  {
   "cell_type": "code",
   "execution_count": null,
   "id": "46521121-0282-4b58-afac-042d5f5be7da",
   "metadata": {},
   "outputs": [],
   "source": [
    "gslc[20040][2000]"
   ]
  },
  {
   "cell_type": "markdown",
   "id": "21ca7c7c-5d2d-4656-9225-9ff9f50c1d13",
   "metadata": {},
   "source": [
    "---\n",
    "## L2 GUNW\n",
    "\n",
    "Level 2 phase-unwrapped interferogram in geocoded coordinates\n",
    "\n",
    "[GUNW Product Specification](https://nisar.asf.alaska.edu/NISAR-SAMPLE-DATA/DOCS/NISAR_D-102272_L2_GUNW_Product_Spec_R3.4_231109_clean_w-sigs.pdf)\n",
    "\n",
    "**Download Sample GUNW**\n"
   ]
  },
  {
   "cell_type": "code",
   "execution_count": null,
   "id": "cf9bfd3e-ab23-4884-92bb-421754354087",
   "metadata": {},
   "outputs": [],
   "source": [
    "gunw_h5 = \"NISAR_L2_PR_GUNW_001_005_A_219_220_4020_SH_20081012T060910_20081012T060926_20081127T060959_20081127T061015_P01101_M_F_J_001.h5\"\n",
    "url = f\"https://nisar.asf.alaska.edu/NISAR-SAMPLE-DATA/GUNW/ALOS-1_Rosamond_20081012_20081127/{gunw_h5}\"\n",
    "\n",
    "r = requests.get(url, verify=True, stream=True)\n",
    "r.raw.decode_content = True\n",
    "with open(gunw_h5, 'wb') as f:\n",
    "        shutil.copyfileobj(r.raw, f)"
   ]
  },
  {
   "cell_type": "markdown",
   "id": "90231220-2777-4c55-86f2-81d1aa4d94a8",
   "metadata": {},
   "source": [
    "**Load the unwrapped interferogram and some metadata**"
   ]
  },
  {
   "cell_type": "code",
   "execution_count": null,
   "id": "b27343cf-a73e-44f4-82e7-3c8e23491cf0",
   "metadata": {},
   "outputs": [],
   "source": [
    "with h5py.File(gunw_h5, 'r') as h5:    \n",
    "    unw_path = f'science/LSAR/GUNW/grids/frequencyA/unwrappedInterferogram'\n",
    "    unw = h5[f'{unw_path}/HH/unwrappedPhase'][:]    \n",
    "    \n",
    "    id_path = f'science/LSAR/identification'\n",
    "    bounding_polygon = h5[f'{id_path}/boundingPolygon'][()].astype(str) \n",
    "    poly = wkt.loads(bounding_polygon)\n",
    "    bbox = [poly.bounds[0], poly.bounds[2], poly.bounds[1], poly.bounds[3]]\n",
    "    \n",
    "    xcoor = h5[f'{unw_path}/xCoordinates'][:]\n",
    "    ycoor = h5[f'{unw_path}/yCoordinates'][:]    \n",
    "    dx = h5[f'{unw_path}/xCoordinateSpacing'][()].astype(int)\n",
    "    dy = h5[f'{unw_path}/yCoordinateSpacing'][()].astype(int)\n",
    "    transform = from_origin(xcoor[0],ycoor[0],dx,np.abs(dy))\n",
    "    epsg = h5[f'{unw_path}/projection'][()].astype(int)"
   ]
  },
  {
   "cell_type": "markdown",
   "id": "cb6143b7-9320-4fee-80e4-3c4f063ba823",
   "metadata": {},
   "source": [
    "**Plot unwrapped interferogram**"
   ]
  },
  {
   "cell_type": "code",
   "execution_count": null,
   "id": "b5269dec-1ebc-49b5-89cc-3b465e327dc2",
   "metadata": {},
   "outputs": [],
   "source": [
    "# Convert each pixel to RGB, adjusting colorscale relative to data range\n",
    "def colorize(array=[], cmap='RdBu', cmin=[], cmax=[]):\n",
    "    normed_data = (array - cmin) / (cmax - cmin)    \n",
    "    cm = matplotlib.colormaps[cmap]\n",
    "    return cm(normed_data) \n",
    "\n",
    "fig, ax = plt.subplots(figsize=(18,18))\n",
    "cax = ax.imshow(colorize(unw, 'jet', -np.pi, np.pi), \n",
    "                cmap=plt.cm.jet, interpolation='nearest', \n",
    "                origin='upper', extent=bbox, \n",
    "                vmin=-np.pi, vmax=np.pi)\n",
    "cbar = fig.colorbar(cax,orientation='vertical',fraction=0.01,pad=0.02)\n",
    "cbar.set_ticks([-np.pi, 0., np.pi])\n",
    "cbar.set_ticklabels([r'$-\\pi$', '$0$', r'$\\pi$'])\n",
    "ax.set_xlabel('Longitude')\n",
    "ax.set_ylabel('Latitude')\n",
    "ax.set_title(f'{gunw_h5}\\nUnwrapped Phase', fontsize=12)\n",
    "plt.show()"
   ]
  },
  {
   "cell_type": "markdown",
   "id": "a11f653e-d1a0-4f6f-9fb6-9b9ed4b2b514",
   "metadata": {},
   "source": [
    "**Output the unwrapped interferogram as a geotiff**"
   ]
  },
  {
   "cell_type": "code",
   "execution_count": null,
   "id": "75b9fc46-f434-443b-84dd-b18aafd88667",
   "metadata": {},
   "outputs": [],
   "source": [
    "ds = rasterio.open(f'{gunw_h5.split(\".\")[0]}_UNW.tif', 'w', driver='GTiff',\n",
    "                   height = unw.shape[0], \n",
    "                   width = unw.shape[1],\n",
    "                   count=1, \n",
    "                   dtype=rasterio.float32,\n",
    "                   crs=CRS.from_epsg(epsg),\n",
    "                   transform=transform,\n",
    "                   nodata=np.nan)\n",
    "ds.write(unw, 1)\n",
    "ds.close()"
   ]
  },
  {
   "cell_type": "markdown",
   "id": "08310d6d-092e-4468-9914-84e33e82c6c9",
   "metadata": {},
   "source": [
    "---\n",
    "## L2 GOFF\n",
    "\n",
    "### Level 2 pixel offsets in geocoded coordinates\n",
    "\n",
    "- Contains binary raster layers representing the pixel offset shifts between a pair of coarsely coregistered L1_RSLC granules.\n",
    "- Primarily meant for cryosphere applications and is only generated for L-SAR acquisitions over Antarctica, Greenland, and selected mountain glaciers. \n",
    "\n",
    "[GOFF Product Specification](https://nisar.asf.alaska.edu/NISAR-SAMPLE-DATA/DOCS/NISAR_D-105010_L2_GOFF_Product_Spec_R3.4_231109_clean_w-sigs.pdf)\n",
    "\n",
    "**Download sample GOFF**"
   ]
  },
  {
   "cell_type": "code",
   "execution_count": null,
   "id": "95853675-d387-4e31-ac82-c61d3a769f82",
   "metadata": {},
   "outputs": [],
   "source": [
    "goff_h5 = \"NISAR_L2_PR_GOFF_001_005_A_219_220_4020_SH_20081012T060910_20081012T060926_20081127T060959_20081127T061015_P01101_M_F_J_001.h5\"\n",
    "goff_url = f\"https://nisar.asf.alaska.edu/NISAR-SAMPLE-DATA/GOFF/ALOS-1_Rosamond_20081012_20081127/{goff_h5}\"\n",
    "\n",
    "r = requests.get(goff_url, verify=True, stream=True)\n",
    "r.raw.decode_content = True\n",
    "with open(goff_h5, 'wb') as f:\n",
    "        shutil.copyfileobj(r.raw, f)"
   ]
  },
  {
   "cell_type": "markdown",
   "id": "90840489-1c98-4ee3-a2ae-30dc7843761b",
   "metadata": {},
   "source": [
    "**Load offsets, retrieve extents, and CRS**"
   ]
  },
  {
   "cell_type": "code",
   "execution_count": null,
   "id": "99245db8-4571-446d-8fc4-3b7c865a36fb",
   "metadata": {},
   "outputs": [],
   "source": [
    "with h5py.File(goff_h5, 'r') as h5:    \n",
    "    goff_path = f'science/LSAR/GOFF/grids/frequencyA/pixelOffsets/HH'\n",
    "    goff_products = {\n",
    "    \"Along Track Offsets\": h5[f'{goff_path}/layer1/alongTrackOffset'][:],\n",
    "    \"Slant Range Offsets\": h5[f'{goff_path}/layer1/slantRangeOffset'][:]\n",
    "    }\n",
    "\n",
    "    id_path = f'science/LSAR/identification'\n",
    "    bounding_polygon = h5[f'{id_path}/boundingPolygon'][()].astype(str) \n",
    "    poly = wkt.loads(bounding_polygon)\n",
    "    bbox = [poly.bounds[0], poly.bounds[2], poly.bounds[1], poly.bounds[3]]\n",
    "    \n",
    "    xcoor_layer1 = h5[f'{goff_path}/layer1/xCoordinates'][:]\n",
    "    ycoor_layer1 = h5[f'{goff_path}/layer1/yCoordinates'][:]    \n",
    "    dx_layer1 = h5[f'{goff_path}/layer1/xCoordinateSpacing'][()].astype(int)\n",
    "    dy_layer1 = h5[f'{goff_path}/layer1/yCoordinateSpacing'][()].astype(int)\n",
    "    transform_layer1 = from_origin(xcoor[0],ycoor[0],dx,np.abs(dy))\n",
    "    epsg_layer1 = h5[f'{goff_path}/layer1/projection'][()].astype(int)"
   ]
  },
  {
   "cell_type": "markdown",
   "id": "0e3a7ac7-d012-4f63-9837-4812bf4cfe00",
   "metadata": {},
   "source": [
    "**Plot the offsets**"
   ]
  },
  {
   "cell_type": "code",
   "execution_count": null,
   "id": "8cde7675-eba2-4628-bf43-b98b41998828",
   "metadata": {},
   "outputs": [],
   "source": [
    "for off in goff_products.keys():\n",
    "\n",
    "    fig, ax = plt.subplots(figsize=(10, 10))\n",
    "    \n",
    "    # define colormap and set nans to display as white\n",
    "    cmap = plt.cm.viridis\n",
    "    cmap.set_bad(color='white')\n",
    "    \n",
    "    ax_im = ax.imshow(goff_products[off], extent=bbox, vmin=0.0, vmax=1.0, cmap=cmap)\n",
    "    cbar = fig.colorbar(ax_im, ticks=[0, 0.5, 1], boundaries=np.linspace(0, 1, 6), fraction=0.035, pad=0.02)\n",
    "    cbar.ax.set_yticklabels(['0', '0.5', '1'])\n",
    "    ax.set_xlabel('Longitude')\n",
    "    ax.set_ylabel('Latitude')\n",
    "    ax.set_title(off,fontsize=12)"
   ]
  },
  {
   "cell_type": "markdown",
   "id": "842e0187-b3bf-4446-be73-10bdcdfd4bab",
   "metadata": {},
   "source": [
    "**Output offset rasters to GeoTiff**"
   ]
  },
  {
   "cell_type": "code",
   "execution_count": null,
   "id": "7743c6e9-98d2-4644-96dc-a9fee7ec25ad",
   "metadata": {},
   "outputs": [],
   "source": [
    "for off in goff_products.keys():\n",
    "    output = f\"{goff_h5.split('.')[0]}_{'_'.join(off.split(' '))}.tif\"\n",
    "    ds = rasterio.open(output, 'w', driver='GTiff',\n",
    "                       height = goff_products[off].shape[0], \n",
    "                       width = goff_products[off].shape[1],\n",
    "                       count=1, \n",
    "                       dtype=rasterio.float32,\n",
    "                       crs=CRS.from_epsg(epsg_layer1),\n",
    "                       transform=transform_layer1,\n",
    "                       nodata=np.nan)\n",
    "    ds.write(goff_products[off], 1)\n",
    "    ds.close()"
   ]
  },
  {
   "cell_type": "markdown",
   "id": "bdfb0692-2126-421e-aef5-fe0341e09a40",
   "metadata": {},
   "source": [
    "---\n",
    "## L2 GCOV\n",
    "\n",
    "### Level 2 SAR covariance product in geocoded coordinates\n",
    "\n",
    "polarimetric covariance matrix is:\n",
    "- normalized via radiometric terrain correction (RTC)\n",
    "- geocoded\n",
    "- multi-looked\n",
    "  - number varies with topography and radar geometry\n",
    "\n",
    "[GCOV product specification](https://nisar.asf.alaska.edu/NISAR-SAMPLE-DATA/DOCS/NISAR_D-102274_L2_GCOV_Product_Spec_R3.4_231109_clean_w-sigs.pdf)\n",
    "\n",
    "**Download sample GCOV**"
   ]
  },
  {
   "cell_type": "code",
   "execution_count": null,
   "id": "dd742764-bf93-4c9d-9726-d13bf1f72d82",
   "metadata": {},
   "outputs": [],
   "source": [
    "gcov_h5 = \"NISAR_L2_PR_GCOV_001_005_A_219_4020_SHNA_A_20081012T060910_20081012T060926_P01101_F_N_J_001.h5\"\n",
    "gcov_url = f\"https://nisar.asf.alaska.edu/NISAR-SAMPLE-DATA/GCOV/ALOS1_Rosamond_20081012/{gcov_h5}\"\n",
    "\n",
    "r = requests.get(gcov_url, verify=True, stream=True)\n",
    "r.raw.decode_content = True\n",
    "with open(gcov_h5, 'wb') as f:\n",
    "        shutil.copyfileobj(r.raw, f)"
   ]
  },
  {
   "cell_type": "markdown",
   "id": "51de8de5-cc8a-42e8-9557-db9a02cf76f9",
   "metadata": {},
   "source": [
    "**Load covariance raster, retrieve extents and CRS**\n",
    "\n",
    "# TODO: confirm that HHHH is the raster containing the corrected covariance matrix"
   ]
  },
  {
   "cell_type": "code",
   "execution_count": null,
   "id": "04179475-6e82-4c1d-a59f-0fd1e9f1e5f8",
   "metadata": {},
   "outputs": [],
   "source": [
    "with h5py.File(gcov_h5, 'r') as h5:    \n",
    "    gcov_path = f'science/LSAR/GCOV/grids/frequencyA'\n",
    "    gcov = h5[f'{gcov_path}/HHHH'][:]  \n",
    "    \n",
    "    id_path = f'science/LSAR/identification'\n",
    "    bounding_polygon = h5[f'{id_path}/boundingPolygon'][()].astype(str) \n",
    "    poly = wkt.loads(bounding_polygon)\n",
    "    bbox = [poly.bounds[0], poly.bounds[2], poly.bounds[1], poly.bounds[3]]\n",
    "    \n",
    "    xcoor = h5[f'{gcov_path}/xCoordinates'][:]\n",
    "    ycoor = h5[f'{gcov_path}/yCoordinates'][:]    \n",
    "    dx = h5[f'{gcov_path}/xCoordinateSpacing'][()].astype(int)\n",
    "    dy = h5[f'{gcov_path}/yCoordinateSpacing'][()].astype(int)\n",
    "    transform = from_origin(xcoor[0], ycoor[0], dx, np.abs(dy))\n",
    "    epsg = h5[f'{gcov_path}/projection'][()].astype(int)"
   ]
  },
  {
   "cell_type": "markdown",
   "id": "67d8beab-4916-4d15-899e-d20502bcd42d",
   "metadata": {},
   "source": [
    "**Plot the covariance**"
   ]
  },
  {
   "cell_type": "code",
   "execution_count": null,
   "id": "bad6831f-ebe3-4f8f-b59d-570dea47fef8",
   "metadata": {
    "scrolled": true
   },
   "outputs": [],
   "source": [
    "fig, ax = plt.subplots(figsize=(18,18))\n",
    "cax = ax.imshow(gcov, cmap=plt.cm.viridis,interpolation='nearest', origin='upper',extent=bbox, vmin=0.0, vmax=0.0000002)\n",
    "cbar = fig.colorbar(cax, orientation='vertical', fraction=0.07, pad=0.02)\n",
    "cbar.set_ticks([0, 0.0000002])\n",
    "cbar.set_ticklabels([r'$0$', r'$0.0000002$'])\n",
    "ax.set_xlabel('Longitude')\n",
    "ax.set_ylabel('Latitude')\n",
    "ax.set_title(f'{gcov_h5}\\nHHHH',fontsize=12)\n",
    "plt.show()"
   ]
  },
  {
   "cell_type": "markdown",
   "id": "c1c87e45-dc61-4121-bbe3-51eedcdbcf3a",
   "metadata": {},
   "source": [
    "**Output covariance to GeoTiff**"
   ]
  },
  {
   "cell_type": "code",
   "execution_count": null,
   "id": "262d5fa1-750d-4f37-a8bb-c8fd556f5653",
   "metadata": {},
   "outputs": [],
   "source": [
    "output = f'{gcov_h5.split(\".\")[0]}_HHHH.tif'\n",
    "ds = rasterio.open(output, 'w', driver='GTiff',\n",
    "                   height = gcov.shape[0], \n",
    "                   width = gcov.shape[1],\n",
    "                   count=1, \n",
    "                   dtype=rasterio.float32,\n",
    "                   crs=CRS.from_epsg(epsg),\n",
    "                   transform=transform,\n",
    "                   nodata=np.nan)\n",
    "ds.write(gcov, 1)\n",
    "ds.close()"
   ]
  },
  {
   "cell_type": "markdown",
   "id": "6812f088-1af4-4342-8c45-b9120cf44104",
   "metadata": {},
   "source": [
    "---\n",
    "## L3 SME2\n",
    "\n",
    "### Level 3 Global Soil Moisture Product\n",
    "\n",
    "[SM Product Specification](https://nisar.asf.alaska.edu/NISAR-SAMPLE-DATA/DOCS/NISAR_D-107677_L3_SME2_Product_Spec_R3.4_231204_clean_w-sigs.pdf)\n",
    "\n",
    "- 200m resolution\n",
    "- soil moisture algorithms\n",
    "    - PMI: Physical Model Inversion\n",
    "    - TSR: Time Series Ratio\n",
    "    - DSG: Disaggregation\n",
    "\n",
    "**Download sample SM**"
   ]
  },
  {
   "cell_type": "code",
   "execution_count": null,
   "id": "211e47cd-ff31-48c7-936e-678ec01b7280",
   "metadata": {},
   "outputs": [],
   "source": [
    "sm_h5 = \"NISAR_L3_PR_SME2_001_008_D_070_4000_QPNA_A_20190829T180759_20190829T180809_P01101_M_P_J_001.h5\"\n",
    "sm_url = f\"https://nisar.asf.alaska.edu/NISAR-SAMPLE-DATA/Soil_Moisture/ALOS-2/{sm_h5}\"\n",
    "\n",
    "r = requests.get(sm_url, verify=True, stream=True)\n",
    "r.raw.decode_content = True\n",
    "with open(sm_h5, 'wb') as f:\n",
    "        shutil.copyfileobj(r.raw, f)"
   ]
  },
  {
   "cell_type": "markdown",
   "id": "b9baeeea-4e8d-473d-b856-9a1a23650ec3",
   "metadata": {},
   "source": [
    "**Load soil moisture layers, retrieve extents, and CRS**"
   ]
  },
  {
   "cell_type": "code",
   "execution_count": null,
   "id": "a85cfd3a-06b3-4fec-9d12-99fc650e9fab",
   "metadata": {},
   "outputs": [],
   "source": [
    "with h5py.File(sm_h5, 'r') as h5:    \n",
    "    algo_path = 'Algorithm'\n",
    "    pmi_path = f'{algo_path}/PMI/Soil_moisture'\n",
    "    tsr_path = f'{algo_path}/TSR/Soil_moisture'\n",
    "    dsg_path = f'{algo_path}/DSG/Soil_moisture'\n",
    "    \n",
    "    sm_products = {\n",
    "    \"Physical Model Inversion\": h5[pmi_path][:],\n",
    "    \"Time Series Ratio\": h5[tsr_path][:],\n",
    "    \"Disaggregation\": h5[dsg_path][:]\n",
    "    }\n",
    "\n",
    "    id_path = f'identification'\n",
    "    bounding_polygon = h5[f'{id_path}/boundingPolygon'][()].astype(str) \n",
    "    poly = wkt.loads(bounding_polygon[0])\n",
    "    bbox = [poly.bounds[0], poly.bounds[2], poly.bounds[1], poly.bounds[3]]"
   ]
  },
  {
   "cell_type": "markdown",
   "id": "4f34503e-fd2d-4997-b7f7-7f1eb4be6a0b",
   "metadata": {},
   "source": [
    "**Plot soil moisture data**"
   ]
  },
  {
   "cell_type": "code",
   "execution_count": null,
   "id": "42827511-232e-49aa-bf57-fc566e1784bf",
   "metadata": {},
   "outputs": [],
   "source": [
    "for sm in sm_products.keys():\n",
    "    # set no-data values to nan\n",
    "    sm_products[sm][sm_products[sm] == -9999] = np.nan\n",
    "\n",
    "    fig, ax = plt.subplots(figsize=(10, 10))\n",
    "    \n",
    "    # define colormap and set nans to display as white\n",
    "    cmap = plt.cm.viridis\n",
    "    cmap.set_bad(color='white')\n",
    "    \n",
    "    ax_im = ax.imshow(sm_products[sm], extent=bbox, vmin=0.0, vmax=1.0, cmap=cmap)\n",
    "    cbar = fig.colorbar(ax_im, ticks=[0, 0.5, 1], boundaries=np.linspace(0, 1, 6), fraction=0.035, pad=0.02)\n",
    "    cbar.ax.set_yticklabels(['0', '0.5', '1'])\n",
    "    ax.set_xlabel('Longitude')\n",
    "    ax.set_ylabel('Latitude')\n",
    "    ax.set_title(f'Soil Moisture\\n{sm}',fontsize=12)"
   ]
  },
  {
   "cell_type": "markdown",
   "id": "77c56696-31d6-43a2-93fd-d94c43062fda",
   "metadata": {},
   "source": [
    "**Output soil moisture maps to GeoTiff**\n",
    "\n",
    "*note: not a geocoded product*"
   ]
  },
  {
   "cell_type": "code",
   "execution_count": null,
   "id": "b39afa19-e801-4c87-8a7e-5e15dbf98b66",
   "metadata": {},
   "outputs": [],
   "source": [
    "%%capture\n",
    "for sm in sm_products.keys():\n",
    "    # set no-data values back to -9999 before writing to GeoTiff\n",
    "    sm_products[sm][sm_products[sm] == np.nan] = -9999\n",
    "    \n",
    "\n",
    "    ds = rasterio.open(f'{sm_h5.split(\".\")[0]}_{\"_\".join(sm.split(\" \"))}.tif', 'w', driver='GTiff',\n",
    "                       height = sm_products[sm].shape[0], \n",
    "                       width = sm_products[sm].shape[1],\n",
    "                       count=1, \n",
    "                       dtype=rasterio.float32,\n",
    "                       nodata=np.nan)\n",
    "    ds.write(sm_products[sm], 1)\n",
    "    ds.close()"
   ]
  }
 ],
 "metadata": {
  "kernelspec": {
   "display_name": "base",
   "language": "python",
   "name": "python3"
  },
  "language_info": {
   "codemirror_mode": {
    "name": "ipython",
    "version": 3
   },
   "file_extension": ".py",
   "mimetype": "text/x-python",
   "name": "python",
   "nbconvert_exporter": "python",
   "pygments_lexer": "ipython3",
   "version": "3.11.3"
  }
 },
 "nbformat": 4,
 "nbformat_minor": 5
}
