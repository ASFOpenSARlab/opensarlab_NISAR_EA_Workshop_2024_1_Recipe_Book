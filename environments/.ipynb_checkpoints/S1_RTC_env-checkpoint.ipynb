{
 "cells": [
  {
   "cell_type": "markdown",
   "id": "bc87f32b-195e-483b-b56f-925919866113",
   "metadata": {},
   "source": [
    "# `s1_rtc` Software Environment Notebook\n",
    "\n",
    "*For use with the opensarlab_NISAR_EA_Workshop_2024_1_Recipe_Book*"
   ]
  },
  {
   "cell_type": "code",
   "execution_count": null,
   "id": "e56dc99e-8bbf-4cb8-8cd6-47cbb80709b8",
   "metadata": {},
   "outputs": [],
   "source": [
    "from pathlib import Path\n",
    "import yaml"
   ]
  },
  {
   "cell_type": "code",
   "execution_count": null,
   "id": "adf25b39-2c53-4ec5-ab95-04f93ca7ffce",
   "metadata": {},
   "outputs": [],
   "source": [
    "yaml_name = \"s1_rtc_env.yaml\"\n",
    "conda_yaml_pth = list(Path.cwd().glob(yaml_name))[0]\n",
    "with open(conda_yaml_pth, 'r') as f:\n",
    "    try:\n",
    "        env = yaml.safe_load(f)\n",
    "    except yaml.YAMLError:\n",
    "        raise"
   ]
  },
  {
   "cell_type": "code",
   "execution_count": null,
   "id": "c262ddfa-ff80-43df-b011-2f63d91fc774",
   "metadata": {},
   "outputs": [],
   "source": [
    "prefix = Path.home()/f\".local/envs/{env['name']}\"\n",
    "!mamba env create -f {conda_yaml_pth} --prefix {prefix} -q --force\n",
    "\n",
    "# Without running this, every environment would appear in the GUI with the same name, 'Python 3'\n",
    "!mamba run -n {env['name']} kernda --display-name {env['name']} -o {prefix}/share/jupyter/kernels/python3/kernel.json"
   ]
  },
  {
   "cell_type": "code",
   "execution_count": null,
   "id": "30916903-7671-4f0a-85d9-fd6e907dcd75",
   "metadata": {},
   "outputs": [],
   "source": []
  }
 ],
 "metadata": {
  "kernelspec": {
   "display_name": "base",
   "language": "python",
   "name": "python3"
  },
  "language_info": {
   "codemirror_mode": {
    "name": "ipython",
    "version": 3
   },
   "file_extension": ".py",
   "mimetype": "text/x-python",
   "name": "python",
   "nbconvert_exporter": "python",
   "pygments_lexer": "ipython3",
   "version": "3.11.3"
  }
 },
 "nbformat": 4,
 "nbformat_minor": 5
}
