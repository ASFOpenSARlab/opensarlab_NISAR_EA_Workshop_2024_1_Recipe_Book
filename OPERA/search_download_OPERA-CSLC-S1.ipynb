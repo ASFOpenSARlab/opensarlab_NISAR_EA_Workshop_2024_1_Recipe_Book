{
 "cells": [
  {
   "cell_type": "markdown",
   "id": "5ba66bbf-ddec-485a-bfcc-bde6ac0c2b69",
   "metadata": {},
   "source": [
    "# OPERA CSLC-S1 Data Access Notebook\n",
    "\n",
    "## 1. Import needed Python packages"
   ]
  },
  {
   "cell_type": "code",
   "execution_count": null,
   "id": "3f3d9cb9-a7b5-4c34-ba1f-b400eb254af3",
   "metadata": {
    "tags": []
   },
   "outputs": [],
   "source": [
    "from getpass import getpass\n",
    "from pathlib import Path\n",
    "from pprint import pprint\n",
    "import re\n",
    "\n",
    "import asf_search as disco"
   ]
  },
  {
   "cell_type": "markdown",
   "id": "59fe7174-76a2-4460-b586-7ce429b106cd",
   "metadata": {},
   "source": [
    "## 2. Authenticate with asf_search and start a session\n",
    "\n",
    "**Gather credentials for authentication with Earth Data Login**"
   ]
  },
  {
   "cell_type": "code",
   "execution_count": null,
   "id": "54c0bef2-283e-466d-958e-e3ddc91158c7",
   "metadata": {
    "tags": []
   },
   "outputs": [],
   "source": [
    "username = input(\"Enter your EDL username\")\n",
    "password = getpass(\"Enter your EDL password\")"
   ]
  },
  {
   "cell_type": "markdown",
   "id": "096c317f-6383-42b5-857a-cfd057997b36",
   "metadata": {},
   "source": [
    "**Start an asf_search session**"
   ]
  },
  {
   "cell_type": "code",
   "execution_count": null,
   "id": "13597db1-fea5-4704-a5a2-3dc032a962af",
   "metadata": {},
   "outputs": [],
   "source": [
    "try:\n",
    "    user_pass_session = disco.ASFSession().auth_with_creds(username, password)\n",
    "except disco.ASFAuthenticationError as e:\n",
    "    print(f'Auth failed: {e}')\n",
    "else:\n",
    "    print('Success!')"
   ]
  },
  {
   "cell_type": "markdown",
   "id": "7ebe609c-31e0-4ee5-b312-680f19f3769a",
   "metadata": {},
   "source": [
    "## 3. Create a directory in which to download the CSLCs\n",
    "\n",
    "**Create a data directory alongside the Jupyter Book containing this notebook** "
   ]
  },
  {
   "cell_type": "code",
   "execution_count": null,
   "id": "f01c80cb-e1ab-4389-8ff6-30fbf274bc2c",
   "metadata": {
    "tags": []
   },
   "outputs": [],
   "source": [
    "name = input(\"Enter the name of a directory to create, which will hold your downloaded CSLCs\")\n",
    "data_dir = Path.cwd().parents[1]/name\n",
    "data_dir.mkdir(exist_ok=True)\n",
    "print(f\"Data Directory: {data_dir}\")"
   ]
  },
  {
   "cell_type": "markdown",
   "id": "35586584-d9d7-4c84-b8aa-382bb03fffb1",
   "metadata": {},
   "source": [
    "## 4. Search for OPERA CSLC-S1 products\n",
    "\n",
    "**Option 1: List Search**\n",
    "\n",
    "- Search by OPERA product ID\n",
    "\n",
    "- Identify OPERA IDs with an [OPERA-S1 Geographic Search on Vertex](https://search.asf.alaska.edu/#/?maxResults=250&dataset=OPERA-S1)\n"
   ]
  },
  {
   "cell_type": "code",
   "execution_count": null,
   "id": "adf79c5e-64f4-4ac9-9f24-241560c7ed1a",
   "metadata": {},
   "outputs": [],
   "source": [
    "product_list = [\n",
    "    \"OPERA_L2_CSLC-S1_T173-370304-IW2_20231018T134413Z_20231019T180049Z_S1A_VV_v1.0\",\n",
    "    \"OPERA_L2_CSLC-S1_T173-370304-IW2_20231205T134412Z_20231206T075651Z_S1A_VV_v1.0\"\n",
    "    ]\n",
    "results = disco.granule_search(product_list)\n",
    "# print(results)"
   ]
  },
  {
   "cell_type": "markdown",
   "id": "4ad6c32a-fbaf-4b27-a34c-61cb0ecd679a",
   "metadata": {},
   "source": [
    "**Option 2: Geographic Search**\n",
    "- Search by intersection with an area of interest\n",
    "  - Define in WKT as a POINT or POLYGON\n",
    "    - `'intersectsWith': 'POINT(-117.4231 35.7597)'`\n",
    "    - `'intersectsWith': 'POLYGON((-114.9066 35.2997,-114.159 35.2997,-114.159 35.8598,-114.9066 35.8598,-114.9066 35.2997))'`"
   ]
  },
  {
   "cell_type": "code",
   "execution_count": null,
   "id": "3cf5fd01-34fb-4837-a6d7-78c76497c647",
   "metadata": {},
   "outputs": [],
   "source": [
    "options = {\n",
    "    # 'intersectsWith': 'POINT(-121.643 38.127)',\n",
    "    'dataset': 'OPERA-S1',\n",
    "    # 'start': '2019-07-03T00:00:00Z',\n",
    "    # 'end': '2023-12-19T00:00:00Z',\n",
    "    # 'flightDirection': 'ASCENDING',\n",
    "    'operaBurstID': 'T035_073252_IW3',\n",
    "    'processingLevel': [\n",
    "        # 'CSLC',\n",
    "        'CSLC-STATIC'\n",
    "    ],\n",
    "    'maxResults': '1000'\n",
    "}\n",
    "\n",
    "results = disco.search(**options)\n",
    "pprint([r.properties['fileName'] for r in results])"
   ]
  },
  {
   "cell_type": "markdown",
   "id": "7eb5160f-f14b-48f5-9bf8-22c87f2ca233",
   "metadata": {},
   "source": [
    "## 5. Filter the Results\n",
    "\n",
    "- The geographic search may return current and superceded data\n",
    "- When >1 CSLC are found for a burst/acquisition date, select the most recently processed"
   ]
  },
  {
   "cell_type": "code",
   "execution_count": null,
   "id": "aac32b40-f79b-44c4-8ff6-5c916bf22924",
   "metadata": {},
   "outputs": [],
   "source": [
    "filtered_bursts = dict()\n",
    "acquisition_date_regex = r\"(?<=OPERA_L2_CSLC-S1_)T\\d{3}-\\d{6}-IW\\d_\\d{8}T\\d{6}Z(?=_\\d{8}T\\d{6}Z)\"\n",
    "process_date_regex = '(?<=OPERA_L2_CSLC-S1_T\\d{3}-\\d{6}-IW\\d_\\d{8}T\\d{6}Z_)\\d{8}T\\d{6}Z'\n",
    "\n",
    "for b in results:\n",
    "    filename = b.properties['fileName']\n",
    "    try:\n",
    "        id_date = re.search(acquisition_date_regex, filename).group(0)\n",
    "        try:\n",
    "            # for scenes that only differ by processing date, we can use a simple relational comparisons\n",
    "            if filtered_bursts[id_date].properties['fileName'] < filename:\n",
    "                filtered_bursts[id_date] = b\n",
    "        except KeyError:\n",
    "            filtered_bursts[id_date] = b\n",
    "    except AttributeError:\n",
    "        raise Exception(f\"Acquisition not found in filename: {str(b)}\")\n",
    "        \n",
    "filtered_bursts = list(filtered_bursts.values())   \n",
    "\n",
    "for b in filtered_bursts:\n",
    "    print(b.properties['fileName'])"
   ]
  },
  {
   "cell_type": "markdown",
   "id": "1bc406da-59fd-46b6-95c6-676f7c5cc221",
   "metadata": {},
   "source": [
    "## 6. Download Data"
   ]
  },
  {
   "cell_type": "code",
   "execution_count": null,
   "id": "4b9e30f4-ee44-4dca-ad9a-239ef603ce59",
   "metadata": {},
   "outputs": [],
   "source": [
    "for burst in filtered_bursts:\n",
    "    burst.download(data_dir, session=user_pass_session)"
   ]
  },
  {
   "cell_type": "code",
   "execution_count": null,
   "id": "076a2b51-35da-4d4d-8afb-0b9aa1c92395",
   "metadata": {},
   "outputs": [],
   "source": [
    "print(results[0])"
   ]
  },
  {
   "cell_type": "code",
   "execution_count": null,
   "id": "84904fee-a10c-4060-a9cf-5b30cf0ed6a0",
   "metadata": {},
   "outputs": [],
   "source": [
    "for burst in results:\n",
    "    burst.download(data_dir, session=user_pass_session)"
   ]
  },
  {
   "cell_type": "code",
   "execution_count": null,
   "id": "9a04a44c-2c92-4246-a439-95cb18e1df92",
   "metadata": {},
   "outputs": [],
   "source": []
  }
 ],
 "metadata": {
  "kernelspec": {
   "display_name": "rtc",
   "language": "python",
   "name": "conda-env-.local-rtc-py"
  },
  "language_info": {
   "codemirror_mode": {
    "name": "ipython",
    "version": 3
   },
   "file_extension": ".py",
   "mimetype": "text/x-python",
   "name": "python",
   "nbconvert_exporter": "python",
   "pygments_lexer": "ipython3",
   "version": "3.12.1"
  }
 },
 "nbformat": 4,
 "nbformat_minor": 5
}
