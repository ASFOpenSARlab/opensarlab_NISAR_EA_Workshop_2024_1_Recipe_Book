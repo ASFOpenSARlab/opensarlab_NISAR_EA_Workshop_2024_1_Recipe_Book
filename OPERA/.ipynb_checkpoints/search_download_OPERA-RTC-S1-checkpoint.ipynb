{
 "cells": [
  {
   "cell_type": "markdown",
   "id": "5ba66bbf-ddec-485a-bfcc-bde6ac0c2b69",
   "metadata": {},
   "source": [
    "# OPERA RTC-S1 Data Access Notebook\n",
    "\n",
    "## 1. Import needed Python package"
   ]
  },
  {
   "cell_type": "code",
   "execution_count": null,
   "id": "3f3d9cb9-a7b5-4c34-ba1f-b400eb254af3",
   "metadata": {
    "tags": []
   },
   "outputs": [],
   "source": [
    "from getpass import getpass\n",
    "import opensarlab_lib as osl\n",
    "from pathlib import Path\n",
    "from pprint import pprint\n",
    "import re\n",
    "\n",
    "import asf_search as disco\n",
    "from asf_search.download.file_download_type import FileDownloadType"
   ]
  },
  {
   "cell_type": "markdown",
   "id": "59fe7174-76a2-4460-b586-7ce429b106cd",
   "metadata": {},
   "source": [
    "## 2. Authenticate with asf_search and start a session\n",
    "\n",
    "**Gather credentials for authentication with Earth Data Login**"
   ]
  },
  {
   "cell_type": "code",
   "execution_count": null,
   "id": "54c0bef2-283e-466d-958e-e3ddc91158c7",
   "metadata": {
    "tags": []
   },
   "outputs": [],
   "source": [
    "username = input(\"Enter your EDL username\")\n",
    "password = getpass(\"Enter your EDL password\")"
   ]
  },
  {
   "cell_type": "markdown",
   "id": "096c317f-6383-42b5-857a-cfd057997b36",
   "metadata": {},
   "source": [
    "**Start an asf_search session**"
   ]
  },
  {
   "cell_type": "code",
   "execution_count": null,
   "id": "13597db1-fea5-4704-a5a2-3dc032a962af",
   "metadata": {},
   "outputs": [],
   "source": [
    "try:\n",
    "    user_pass_session = disco.ASFSession().auth_with_creds(username, password)\n",
    "except disco.ASFAuthenticationError as e:\n",
    "    print(f'Auth failed: {e}')\n",
    "else:\n",
    "    print('Success!')"
   ]
  },
  {
   "cell_type": "markdown",
   "id": "7ebe609c-31e0-4ee5-b312-680f19f3769a",
   "metadata": {},
   "source": [
    "## 3. Create a directory in which to download the RTCs\n",
    "\n",
    "**Create a data directory alongside the Jupyter Book containing this notebook** "
   ]
  },
  {
   "cell_type": "code",
   "execution_count": null,
   "id": "f01c80cb-e1ab-4389-8ff6-30fbf274bc2c",
   "metadata": {
    "tags": []
   },
   "outputs": [],
   "source": [
    "name = input(\"Enter the name of a directory to create, which will hold your downloaded RTCs\")\n",
    "data_dir = Path.cwd().parents[1]/name\n",
    "data_dir.mkdir(exist_ok=True)\n",
    "print(f\"Data Directory: {data_dir}\")"
   ]
  },
  {
   "cell_type": "markdown",
   "id": "35586584-d9d7-4c84-b8aa-382bb03fffb1",
   "metadata": {},
   "source": [
    "## 4. Search for OPERA RTC-S1 products\n",
    "\n",
    "**Option 1: List Search**\n",
    "\n",
    "- Search by OPERA product ID\n",
    "\n",
    "- Identify OPERA IDs with an [OPERA-S1 Geographic Search on Vertex](https://search.asf.alaska.edu/#/?maxResults=250&dataset=OPERA-S1)\n"
   ]
  },
  {
   "cell_type": "code",
   "execution_count": null,
   "id": "adf79c5e-64f4-4ac9-9f24-241560c7ed1a",
   "metadata": {},
   "outputs": [],
   "source": [
    "product_list = [\n",
    "    \"OPERA_L2_RTC-S1_T173-370304-IW1_20231006T134412Z_20231007T132700Z_S1A_30_v1.0\",\n",
    "    \"OPERA_L2_RTC-S1_T173-370304-IW1_20231018T134412Z_20231019T044908Z_S1A_30_v1.0\"\n",
    "    ]\n",
    "results = disco.granule_search(product_list)\n",
    "# print(results)"
   ]
  },
  {
   "cell_type": "markdown",
   "id": "4ad6c32a-fbaf-4b27-a34c-61cb0ecd679a",
   "metadata": {},
   "source": [
    "**Option 2: Geographic Search**\n",
    "- Search by intersection with an area of interest\n",
    "  - Define in WKT as a POINT or POLYGON\n",
    "    - `'intersectsWith': 'POINT(-117.4231 35.7597)'`\n",
    "    - `'intersectsWith': 'POLYGON((-114.9066 35.2997,-114.159 35.2997,-114.159 35.8598,-114.9066 35.8598,-114.9066 35.2997))'`"
   ]
  },
  {
   "cell_type": "code",
   "execution_count": null,
   "id": "3cf5fd01-34fb-4837-a6d7-78c76497c647",
   "metadata": {},
   "outputs": [],
   "source": [
    "options = {\n",
    "    'intersectsWith': 'POINT(-114.4556 36.1562)',\n",
    "    'dataset': 'OPERA-S1',\n",
    "    'start': '2016-07-03T00:00:00Z',\n",
    "    'end': '2023-12-19T00:00:00Z',\n",
    "    # 'flightDirection': 'ASCENDING',\n",
    "    'processingLevel': ['RTC'],\n",
    "    'maxResults': '1000'\n",
    "}\n",
    "\n",
    "results = disco.search(**options)\n",
    "burst_ids = list(set([r.properties['operaBurstID'] for r in results]))\n",
    "print(f\"Found {len(results)} RTCs with {len(burst_ids)} burst IDs\")"
   ]
  },
  {
   "cell_type": "markdown",
   "id": "7eb5160f-f14b-48f5-9bf8-22c87f2ca233",
   "metadata": {},
   "source": [
    "## 5. Filter the Results\n",
    "\n",
    "**Select the burst IDs to download**"
   ]
  },
  {
   "cell_type": "code",
   "execution_count": null,
   "id": "0d5bf659-61c3-4c33-89e6-b06a673f673d",
   "metadata": {},
   "outputs": [],
   "source": [
    "print(\"\\nSelect the RTC burst IDs you wish to download\")\n",
    "burst_select = osl.select_mult_parameters(burst_ids)\n",
    "display(burst_select)"
   ]
  },
  {
   "cell_type": "code",
   "execution_count": null,
   "id": "96b2a1b4-a05f-493a-8ec0-01cf0baae33d",
   "metadata": {},
   "outputs": [],
   "source": [
    "bursts = burst_select.value\n",
    "selected_results = [r for r in results if r.properties['operaBurstID'] in bursts]\n",
    "selected_results"
   ]
  },
  {
   "cell_type": "markdown",
   "id": "a398e86e-d815-4ead-98b6-3583e6445973",
   "metadata": {},
   "source": [
    "**Create directories for each burst**"
   ]
  },
  {
   "cell_type": "code",
   "execution_count": null,
   "id": "c82509cd-294f-45b9-ae6e-1824cf7b4802",
   "metadata": {},
   "outputs": [],
   "source": [
    "for b in bursts:\n",
    "    (data_dir/b).mkdir(exist_ok=True)"
   ]
  },
  {
   "cell_type": "markdown",
   "id": "0aef27ff-c7b1-457e-bea7-51155a715225",
   "metadata": {},
   "source": [
    "**When >1 RTC are found for a burst/acquisition date, select the most recently processed bursts**\n",
    "\n",
    "The geographic search may return current and superceded data\n"
   ]
  },
  {
   "cell_type": "code",
   "execution_count": null,
   "id": "aac32b40-f79b-44c4-8ff6-5c916bf22924",
   "metadata": {},
   "outputs": [],
   "source": [
    "filtered_bursts = dict()\n",
    "acquisition_date_regex = r\"(?<=OPERA_L2_RTC-S1_)T\\d{3}-\\d{6}-IW\\d_\\d{8}T\\d{6}Z(?=_\\d{8}T\\d{6}Z)\"\n",
    "process_date_regex = r\"(?<=OPERA_L2_RTC-S1_T\\d{3}-\\d{6}-IW\\d_\\d{8}T\\d{6}Z_)\\d{8}T\\d{6}Z\"\n",
    "\n",
    "for b in selected_results:\n",
    "    rtc_id = b.properties['fileID']\n",
    "    try:\n",
    "        id_date = re.search(acquisition_date_regex, rtc_id).group(0)\n",
    "        try:\n",
    "            # for bursts that only differ by processing date, we can use a simple relational comparison\n",
    "            if filtered_bursts[id_date].properties['fileID'] < rtc_id:\n",
    "                filtered_bursts[id_date] = b\n",
    "        except KeyError:\n",
    "            filtered_bursts[id_date] = b\n",
    "    except AttributeError:\n",
    "        raise Exception(f\"Acquisition not found in RTC ID: {str(b)}\")\n",
    "        \n",
    "filtered_bursts = list(filtered_bursts.values())   \n",
    "\n",
    "for b in filtered_bursts:\n",
    "    print(b.properties['fileID'])"
   ]
  },
  {
   "cell_type": "markdown",
   "id": "1bc406da-59fd-46b6-95c6-676f7c5cc221",
   "metadata": {},
   "source": [
    "## 6. Download Data\n",
    "\n",
    "**Download the RTCs**"
   ]
  },
  {
   "cell_type": "code",
   "execution_count": null,
   "id": "2c1ad149-222f-42c1-aad6-966554aa8db5",
   "metadata": {},
   "outputs": [],
   "source": [
    "for b in filtered_bursts:\n",
    "    rtc_dir = data_dir/b.properties['operaBurstID']/b.properties['fileID']\n",
    "    rtc_dir.mkdir(exist_ok=True)\n",
    "    b.download(rtc_dir, session=user_pass_session, fileType=FileDownloadType.ALL_FILES)"
   ]
  },
  {
   "cell_type": "markdown",
   "id": "925c0e2c-2622-4db3-8974-9efc83df0ca2",
   "metadata": {},
   "source": [
    "**Download the static layers**"
   ]
  },
  {
   "cell_type": "code",
   "execution_count": null,
   "id": "705e8e11-fdd8-4988-aa39-3b5292dce04b",
   "metadata": {},
   "outputs": [],
   "source": [
    "for b in bursts:\n",
    "    options = {\n",
    "        'dataset': 'OPERA-S1',\n",
    "        'operaBurstID': b,\n",
    "        'processingLevel': ['RTC-STATIC'],\n",
    "        'maxResults': '1000'\n",
    "    }\n",
    "    results = disco.search(**options)\n",
    "    if len(results) > 0:\n",
    "        static_dir = data_dir/b/f\"{b}_STATIC\"\n",
    "        static_dir.mkdir(exist_ok=True)\n",
    "        results[0].download(static_dir, \n",
    "                            session=user_pass_session, \n",
    "                            fileType=FileDownloadType.ALL_FILES)"
   ]
  }
 ],
 "metadata": {
  "kernelspec": {
   "display_name": "s1_rtc",
   "language": "python",
   "name": "conda-env-.local-s1_rtc-py"
  },
  "language_info": {
   "codemirror_mode": {
    "name": "ipython",
    "version": 3
   },
   "file_extension": ".py",
   "mimetype": "text/x-python",
   "name": "python",
   "nbconvert_exporter": "python",
   "pygments_lexer": "ipython3",
   "version": "3.12.1"
  }
 },
 "nbformat": 4,
 "nbformat_minor": 5
}
